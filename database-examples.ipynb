{
 "cells": [
  {
   "cell_type": "markdown",
   "metadata": {},
   "source": [
    "# Databases in Medicine - Practical examples\n",
    "*Author: Joan Marc Carbo Arnau* [email](mailto:jmcarbo@gmail.com)\n",
    "\n",
    "In this notebook we will learn how to fetch and analyze ready available COVID-19 data."
   ]
  },
  {
   "cell_type": "code",
   "execution_count": 1,
   "metadata": {},
   "outputs": [],
   "source": [
    "from ipywidgets import widgets, Layout, Box, GridspecLayout"
   ]
  },
  {
   "cell_type": "code",
   "execution_count": 13,
   "metadata": {
    "tags": [
     "hide-input"
    ]
   },
   "outputs": [],
   "source": [
    "##Basic mcq\n",
    "\n",
    "def create_multipleChoice_widget(description, options, correct_answer, hint):\n",
    "    if correct_answer not in options:\n",
    "        options.append(correct_answer)\n",
    "    \n",
    "    correct_answer_index = options.index(correct_answer)\n",
    "    \n",
    "    radio_options = [(words, i) for i, words in enumerate(options)]\n",
    "    alternativ = widgets.RadioButtons(\n",
    "        options = radio_options,\n",
    "        description = '',\n",
    "        disabled = False,\n",
    "        indent = False,\n",
    "        align = 'center',\n",
    "    )\n",
    "    \n",
    "    description_out = widgets.Output(layout=Layout(width='auto'))\n",
    "    \n",
    "    with description_out:\n",
    "        print(description)\n",
    "        \n",
    "    feedback_out = widgets.Output()\n",
    "\n",
    "    def check_selection(b):\n",
    "        a = int(alternativ.value)\n",
    "        if a==correct_answer_index:\n",
    "            s = '\\x1b[6;30;42m' + \"correct\" + '\\x1b[0m' +\"\\n\"\n",
    "        else:\n",
    "            s = '\\x1b[5;30;41m' + \"try again\" + '\\x1b[0m' +\"\\n\"\n",
    "        with feedback_out:\n",
    "            feedback_out.clear_output()\n",
    "            print(s)\n",
    "        return\n",
    "    \n",
    "    check = widgets.Button(description=\"check\")\n",
    "    check.on_click(check_selection)\n",
    "    \n",
    "    hint_out = widgets.Output()\n",
    "    \n",
    "    def hint_selection(b):\n",
    "        with hint_out:\n",
    "            print(hint)\n",
    "            \n",
    "        with feedback_out:\n",
    "            feedback_out.clear_output()\n",
    "            print(hint)\n",
    "    \n",
    "    hintbutton = widgets.Button(description=\"hint\")\n",
    "    hintbutton.on_click(hint_selection)\n",
    "    \n",
    "    return widgets.VBox([description_out, \n",
    "                         alternativ, \n",
    "                         widgets.HBox([hintbutton, check]), feedback_out], \n",
    "                        layout=Layout(display='flex',\n",
    "                                     flex_flow='column',\n",
    "                                     align_items='stretch',\n",
    "                                     width='auto')) "
   ]
  },
  {
   "cell_type": "code",
   "execution_count": 14,
   "metadata": {
    "scrolled": true
   },
   "outputs": [
    {
     "data": {
      "application/vnd.jupyter.widget-view+json": {
       "model_id": "70389881c2454b4ba8eaa1d960361c7b",
       "version_major": 2,
       "version_minor": 0
      },
      "text/plain": [
       "VBox(children=(Output(layout=Layout(width='auto')), RadioButtons(options=(('a', 0), ('b', 1)), value=0), HBox(…"
      ]
     },
     "metadata": {},
     "output_type": "display_data"
    }
   ],
   "source": [
    "cccc=create_multipleChoice_widget(\"asdfasdfas\", [\"a\",\"b\"],\"b\",\"ddddd\")\n",
    "cccc2=create_multipleChoice_widget(\"fffff\", [\"a\",\"b\"],\"b\",\"ddddd\")\n",
    "\n",
    "\n",
    "cccc\n"
   ]
  },
  {
   "cell_type": "code",
   "execution_count": 5,
   "metadata": {},
   "outputs": [
    {
     "data": {
      "application/vnd.jupyter.widget-view+json": {
       "model_id": "b0628144069c4965a2950f0a4d0ca133",
       "version_major": 2,
       "version_minor": 0
      },
      "text/plain": [
       "VBox(children=(Output(layout=Layout(width='auto'), outputs=({'output_type': 'stream', 'text': 'fffff\\n', 'name…"
      ]
     },
     "metadata": {},
     "output_type": "display_data"
    }
   ],
   "source": [
    "cccc2"
   ]
  },
  {
   "cell_type": "markdown",
   "metadata": {},
   "source": [
    "## Setup computing environment\n",
    "\n",
    "You can skip this section if you are not concerned with underlying computing environment.\n",
    "\n",
    "First we must import two python libraries:\n",
    "\n",
    "* lux: helps visualize data graphicaly\n",
    "* pandas: helps load and manipulate data"
   ]
  },
  {
   "cell_type": "code",
   "execution_count": 6,
   "metadata": {},
   "outputs": [],
   "source": [
    "# REMEMBER TO PRESS shift+ENTER to execute code\n",
    "\n",
    "import lux\n",
    "import pandas as pd"
   ]
  },
  {
   "cell_type": "code",
   "execution_count": 2,
   "metadata": {},
   "outputs": [],
   "source": [
    "covid=pd.read_csv(\"https://opendata.ecdc.europa.eu/covid19/casedistribution/csv\")\n",
    "covid['dateRep'] = pd.to_datetime(covid['dateRep'], format='%d/%m/%Y')"
   ]
  },
  {
   "cell_type": "code",
   "execution_count": 11,
   "metadata": {
    "scrolled": true
   },
   "outputs": [
    {
     "ename": "NameError",
     "evalue": "name 'covid' is not defined",
     "output_type": "error",
     "traceback": [
      "\u001b[0;31m---------------------------------------------------------------------------\u001b[0m",
      "\u001b[0;31mNameError\u001b[0m                                 Traceback (most recent call last)",
      "\u001b[0;32m<ipython-input-11-32eb53d44360>\u001b[0m in \u001b[0;36m<module>\u001b[0;34m\u001b[0m\n\u001b[0;32m----> 1\u001b[0;31m \u001b[0mcovid\u001b[0m\u001b[0;34m.\u001b[0m\u001b[0mintent\u001b[0m\u001b[0;34m=\u001b[0m\u001b[0;34m[\u001b[0m\u001b[0;34m\"continentExp\"\u001b[0m\u001b[0;34m,\u001b[0m\u001b[0;34m\"notification_rate_per_100000_population_14-days|deaths_weekly\"\u001b[0m\u001b[0;34m,\u001b[0m\u001b[0;34m\"dateRep\"\u001b[0m\u001b[0;34m]\u001b[0m\u001b[0;34m\u001b[0m\u001b[0;34m\u001b[0m\u001b[0m\n\u001b[0m\u001b[1;32m      2\u001b[0m \u001b[0mcovid\u001b[0m\u001b[0;34m\u001b[0m\u001b[0;34m\u001b[0m\u001b[0m\n",
      "\u001b[0;31mNameError\u001b[0m: name 'covid' is not defined"
     ]
    }
   ],
   "source": [
    "covid.intent=[\"continentExp\",\"notification_rate_per_100000_population_14-days|deaths_weekly\",\"dateRep\"]\n",
    "covid"
   ]
  },
  {
   "cell_type": "code",
   "execution_count": 4,
   "metadata": {},
   "outputs": [
    {
     "data": {
      "text/plain": [
       "Index(['dateRep', 'year_week', 'cases_weekly', 'deaths_weekly',\n",
       "       'countriesAndTerritories', 'geoId', 'countryterritoryCode',\n",
       "       'popData2019', 'continentExp',\n",
       "       'notification_rate_per_100000_population_14-days'],\n",
       "      dtype='object')"
      ]
     },
     "execution_count": 4,
     "metadata": {},
     "output_type": "execute_result"
    }
   ],
   "source": [
    "covid.columns"
   ]
  },
  {
   "cell_type": "code",
   "execution_count": null,
   "metadata": {},
   "outputs": [],
   "source": []
  }
 ],
 "metadata": {
  "kernelspec": {
   "display_name": "Python 3",
   "language": "python",
   "name": "python3"
  },
  "language_info": {
   "codemirror_mode": {
    "name": "ipython",
    "version": 3
   },
   "file_extension": ".py",
   "mimetype": "text/x-python",
   "name": "python",
   "nbconvert_exporter": "python",
   "pygments_lexer": "ipython3",
   "version": "3.7.8"
  }
 },
 "nbformat": 4,
 "nbformat_minor": 4
}
