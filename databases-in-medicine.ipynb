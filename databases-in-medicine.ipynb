{
 "cells": [
  {
   "cell_type": "markdown",
   "metadata": {},
   "source": [
    "# Introducció a les Bases de Dades en Medicina\n",
    "\n",
    "En aquest quadern aprendrem alguns conceptes tals com què és una __base de dades__, què són __dades__, què és __informació__, ... i perquè aquests conceptes són rellevants per la **pràctica mèdica**."
   ]
  },
  {
   "cell_type": "markdown",
   "metadata": {
    "slideshow": {
     "slide_type": "slide"
    }
   },
   "source": [
    "## Les malalties no existeixen, el que hi ha són persones malaltes\n",
    "\n",
    "L'afirmació *Les malalties no existeixen, el que hi ha són persones malaltes* pot semblar exagerada o falsa, però respon al fet que als humans ens cal sempre fer-nos un **model** de la realitat per poder-la copsar. Per exemple, darrera de l'afirmació \"*Aquest pacient té febre*\" hi ha tot un seguit de supòsits previs que impliquen un model mental sobre el que és un ser humà i quins són els seus mecanismes homeostàtics (el fet que la temperatura corporal d'una persona sana s'hagui de mantenir entre 38,0ºC i 37,0ºC) i, fins i tot, el propi concepte de temperatura implica un model previ sobre aquesta realitat que estem observant.\n",
    "\n",
    "Aquests **models** que empreem per observar la realitat són **contingents** (poden ser així o d'una altra manera), tant és així que si, havent estudiat medicina a l'any 2021, en poséssim a llegir una revista mèdica dels anys 50 del segle passat, probablement no entendríem res perquè els models existents que feien referència a malalties hauran canviat radicalment respecte a com entenem les malalties actualment.\n",
    "\n",
    "En definitiva, un **model** és una **simplificació de la realitat** on ens fixem en determinades característiques d'aquesta última i obviem la resta de particularitats per tal de poder entendre el que tenim davant sense perdre'ns en una explosió de detalls que ens serien impossibles de processar pel nostre cervell. Per tant, les malalties no existeixen en la realitat, sinó només en el nostre cervell com a models."
   ]
  },
  {
   "cell_type": "markdown",
   "metadata": {
    "slideshow": {
     "slide_type": "slide"
    }
   },
   "source": [
    "## Dades, informació i coneixement\n",
    "\n",
    "Quan estem davant d'un malalt, ens fixem en una sèrie de variables que, com el seu nom indica, són magnituds que poden variar i que són directament observables per nosaltres o mitjançat l'ús d'algun instrument. Per exemple, la temperatura és una magnitud que pot variar en cada pacient i que s'observa mitjançant un termòmetre. De manera anàloga, la freqüència cardiaca, la sensació d'ofec (*dispnea*), las variacions de voltatge de l'electrocardiograma o el grau de cansament del pacient són variables que podem observar i que anomenem **dades**.\n",
    "\n",
    "Si a una dada o conjunt de dades les modelitzem (les apliquem un model) o conceptualitzem, obtenim **informació**. Per exemple, si a la temperatura corporal li apliquem el model que determina que temperatures entre 37 i 38ºC els anomenem febrícula i les temperatures superiors a 38ºC les anomenem febre, hem obtingut informació de les dades. Si als voltatges de l'electrocardiograma els apliquem el model de polarització despolarització del miocardi, podem determinar, per exemple, que hi ha una depressió del segment ST i, per tant, hem obtingut informació. En medicina, la informació s'agrupa en **síntomes** (allò que refereix el malalt) i **signes** (alló que pot observar directament el facultatiu sense preguntar al malalt). \n",
    "\n",
    "Però la informació no ens permet guarir un malalt. Per poder guarir (actuar) un malalt hem de tenir **coneixements**, que vol dir detectar patrons repetitius de síntomes i signes que ens permetin inferir que el que ha anat bé abans en un pacient amb signes i síntomes similars, pot anar bé també en el nou pacient que estem observant. De tota manera, aquest procés de descobriment de patrons és força problemàtic, avui dia, només som capaços d'explicar un 30% de la variabilitat interindividual de la resposta dels pacients als tractaments. Això vol dir que segueix havent un 70% de resultats (exitosos o no dessitjats) que no som capaços d'explicar o controlar."
   ]
  },
  {
   "cell_type": "markdown",
   "metadata": {
    "slideshow": {
     "slide_type": "slide"
    }
   },
   "source": [
    "## Què és una base de dades?\n",
    "\n",
    "Les dades i la informació sobre els pacients s'enregistren habitualment en un \"sistema\" que anomenem **història clínica**. Qualsevol mecanisme o procediment (sistema) que ens permeti emmagatazemar i recuperar dades i/o informació l'anomenem **Sistema Gestor de Base de Dades (SGBD)** o, més breument, **base de dades**. \n",
    "\n",
    "Però no n'hi ha prou amb poder emmagatzemar i recuperar informació, cal també poder capturar-la primer i analitzar-la posteriorment. Quan un sistema ens permet capturar, emmagatzemar, recuperar i analitzar dades i informació diem que estem davant d'un **Sistema d'Informació**. Per tant, un sistema d'informació ha d'incloure necessàriament una o més bases de dades. Per tant, la **història clínica** (en paper o electrònica) és un **Sistema d'Informació** i, alhora també un **SGBD**.\n"
   ]
  },
  {
   "cell_type": "code",
   "execution_count": null,
   "metadata": {
    "slideshow": {
     "slide_type": "slide"
    }
   },
   "outputs": [],
   "source": []
  }
 ],
 "metadata": {
  "kernelspec": {
   "display_name": "Python 3",
   "language": "python",
   "name": "python3"
  },
  "language_info": {
   "codemirror_mode": {
    "name": "ipython",
    "version": 3
   },
   "file_extension": ".py",
   "mimetype": "text/x-python",
   "name": "python",
   "nbconvert_exporter": "python",
   "pygments_lexer": "ipython3",
   "version": "3.7.8"
  },
  "rise": {
   "autolaunch": false,
   "enable_chalkboard": true
  },
  "widgets": {
   "application/vnd.jupyter.widget-state+json": {
    "state": {
     "0e670c66af884137ba32b8f191dec585": {
      "model_module": "@jupyter-widgets/controls",
      "model_module_version": "1.5.0",
      "model_name": "ButtonModel",
      "state": {
       "description": "Toggle Pandas/Lux",
       "layout": "IPY_MODEL_2fca2b88a26c442f9e10ec4ed0e4f746",
       "style": "IPY_MODEL_e2edbb001c484bd7a201dc744ce8416c"
      }
     },
     "1c2a87fa05e547e097d6f5c998c768cc": {
      "model_module": "@jupyter-widgets/base",
      "model_module_version": "1.2.0",
      "model_name": "LayoutModel",
      "state": {}
     },
     "288cecac1cf44805a91ac2159d00e0ff": {
      "model_module": "@jupyter-widgets/base",
      "model_module_version": "1.2.0",
      "model_name": "LayoutModel",
      "state": {}
     },
     "2fca2b88a26c442f9e10ec4ed0e4f746": {
      "model_module": "@jupyter-widgets/base",
      "model_module_version": "1.2.0",
      "model_name": "LayoutModel",
      "state": {
       "top": "5px",
       "width": "140px"
      }
     },
     "3d6b0ee977944423adb20eff38859c17": {
      "model_module": "@jupyter-widgets/base",
      "model_module_version": "1.2.0",
      "model_name": "LayoutModel",
      "state": {}
     },
     "4cdac3fd05294a9ca80744f954b2fe19": {
      "model_module": "luxwidget",
      "model_module_version": "0.1.3",
      "model_name": "LuxModel",
      "state": {
       "_selectedVisIdxs": {},
       "current_vis": {},
       "data": [],
       "deletedIndices": {},
       "intent": "",
       "layout": "IPY_MODEL_3d6b0ee977944423adb20eff38859c17",
       "message": "<ul><li>Large scatterplots detected: Lux is automatically binning scatterplots to heatmaps.</li></ul>",
       "recommendations": [
        {
         "action": "Correlation",
         "description": "Show relationships between two <p class='highlight-descriptor'>quantitative</p> attributes.",
         "vspec": [
          {
           "$schema": "https://vega.github.io/schema/vega-lite/v4.8.1.json",
           "config": {
            "axis": {
             "labelColor": "#505050",
             "labelFont": "Helvetica Neue",
             "labelFontSize": 9,
             "labelFontWeight": 400,
             "titleFont": "Helvetica Neue",
             "titleFontSize": 11,
             "titleFontWeight": 500
            },
            "legend": {
             "labelFont": "Helvetica Neue",
             "labelFontSize": 9,
             "labelFontWeight": 400,
             "titleFont": "Helvetica Neue",
             "titleFontSize": 10,
             "titleFontWeight": 500
            },
            "mark": {
             "tooltip": {
              "content": "encoding"
             }
            },
            "scale": {
             "maxOpacity": 1,
             "minOpacity": 0.1
            },
            "title": {
             "font": "Helvetica Neue",
             "fontSize": 13,
             "fontWeight": 500
            },
            "view": {
             "continuousHeight": 300,
             "continuousWidth": 400
            }
           },
           "data": {
            "name": "data-20e0711b3faf319aee314683065fd379"
           },
           "datasets": {
            "data-20e0711b3faf319aee314683065fd379": [
             {
              "count": 2,
              "xBinEnd": 35934.725,
              "xBinStart": -5455.949,
              "yBinEnd": -388.775,
              "yBinStart": -894.449
             },
             {
              "count": 8034,
              "xBinEnd": 35934.725,
              "xBinStart": -5455.949,
              "yBinEnd": 97.45,
              "yBinStart": -388.775
             },
             {
              "count": 892,
              "xBinEnd": 35934.725,
              "xBinStart": -5455.949,
              "yBinEnd": 583.675,
              "yBinStart": 97.45
             },
             {
              "count": 130,
              "xBinEnd": 35934.725,
              "xBinStart": -5455.949,
              "yBinEnd": 1069.9,
              "yBinStart": 583.675
             },
             {
              "count": 42,
              "xBinEnd": 35934.725,
              "xBinStart": -5455.949,
              "yBinEnd": 1556.125,
              "yBinStart": 1069.9
             },
             {
              "count": 12,
              "xBinEnd": 35934.725,
              "xBinStart": -5455.949,
              "yBinEnd": 2042.35,
              "yBinStart": 1556.125
             },
             {
              "count": 7,
              "xBinEnd": 35934.725,
              "xBinStart": -5455.949,
              "yBinEnd": 2528.575,
              "yBinStart": 2042.35
             },
             {
              "count": 5,
              "xBinEnd": 35934.725,
              "xBinStart": -5455.949,
              "yBinEnd": 3014.8,
              "yBinStart": 2528.575
             },
             {
              "count": 5,
              "xBinEnd": 35934.725,
              "xBinStart": -5455.949,
              "yBinEnd": 3501.025,
              "yBinStart": 3014.8
             },
             {
              "count": 5,
              "xBinEnd": 35934.725,
              "xBinStart": -5455.949,
              "yBinEnd": 3987.25,
              "yBinStart": 3501.025
             },
             {
              "count": 3,
              "xBinEnd": 35934.725,
              "xBinStart": -5455.949,
              "yBinEnd": 4473.475,
              "yBinStart": 3987.25
             },
             {
              "count": 2,
              "xBinEnd": 35934.725,
              "xBinStart": -5455.949,
              "yBinEnd": 4959.7,
              "yBinStart": 4473.475
             },
             {
              "count": 3,
              "xBinEnd": 35934.725,
              "xBinStart": -5455.949,
              "yBinEnd": 5445.925,
              "yBinStart": 4959.7
             },
             {
              "count": 2,
              "xBinEnd": 35934.725,
              "xBinStart": -5455.949,
              "yBinEnd": 5932.15,
              "yBinStart": 5445.925
             },
             {
              "count": 2,
              "xBinEnd": 35934.725,
              "xBinStart": -5455.949,
              "yBinEnd": 6418.375,
              "yBinStart": 5932.15
             },
             {
              "count": 1,
              "xBinEnd": 35934.725,
              "xBinStart": -5455.949,
              "yBinEnd": 6904.6,
              "yBinStart": 6418.375
             },
             {
              "count": 2,
              "xBinEnd": 75733.45,
              "xBinStart": 35934.725,
              "yBinEnd": 97.45,
              "yBinStart": -388.775
             },
             {
              "count": 51,
              "xBinEnd": 75733.45,
              "xBinStart": 35934.725,
              "yBinEnd": 583.675,
              "yBinStart": 97.45
             },
             {
              "count": 51,
              "xBinEnd": 75733.45,
              "xBinStart": 35934.725,
              "yBinEnd": 1069.9,
              "yBinStart": 583.675
             },
             {
              "count": 56,
              "xBinEnd": 75733.45,
              "xBinStart": 35934.725,
              "yBinEnd": 1556.125,
              "yBinStart": 1069.9
             },
             {
              "count": 12,
              "xBinEnd": 75733.45,
              "xBinStart": 35934.725,
              "yBinEnd": 2042.35,
              "yBinStart": 1556.125
             },
             {
              "count": 7,
              "xBinEnd": 75733.45,
              "xBinStart": 35934.725,
              "yBinEnd": 2528.575,
              "yBinStart": 2042.35
             },
             {
              "count": 8,
              "xBinEnd": 75733.45,
              "xBinStart": 35934.725,
              "yBinEnd": 3014.8,
              "yBinStart": 2528.575
             },
             {
              "count": 2,
              "xBinEnd": 75733.45,
              "xBinStart": 35934.725,
              "yBinEnd": 3501.025,
              "yBinStart": 3014.8
             },
             {
              "count": 4,
              "xBinEnd": 75733.45,
              "xBinStart": 35934.725,
              "yBinEnd": 3987.25,
              "yBinStart": 3501.025
             },
             {
              "count": 10,
              "xBinEnd": 75733.45,
              "xBinStart": 35934.725,
              "yBinEnd": 4473.475,
              "yBinStart": 3987.25
             },
             {
              "count": 5,
              "xBinEnd": 75733.45,
              "xBinStart": 35934.725,
              "yBinEnd": 4959.7,
              "yBinStart": 4473.475
             },
             {
              "count": 2,
              "xBinEnd": 75733.45,
              "xBinStart": 35934.725,
              "yBinEnd": 5445.925,
              "yBinStart": 4959.7
             },
             {
              "count": 1,
              "xBinEnd": 75733.45,
              "xBinStart": 35934.725,
              "yBinEnd": 5932.15,
              "yBinStart": 5445.925
             },
             {
              "count": 8,
              "xBinEnd": 115532.175,
              "xBinStart": 75733.45,
              "yBinEnd": 583.675,
              "yBinStart": 97.45
             },
             {
              "count": 9,
              "xBinEnd": 115532.175,
              "xBinStart": 75733.45,
              "yBinEnd": 1069.9,
              "yBinStart": 583.675
             },
             {
              "count": 7,
              "xBinEnd": 115532.175,
              "xBinStart": 75733.45,
              "yBinEnd": 1556.125,
              "yBinStart": 1069.9
             },
             {
              "count": 10,
              "xBinEnd": 115532.175,
              "xBinStart": 75733.45,
              "yBinEnd": 2042.35,
              "yBinStart": 1556.125
             },
             {
              "count": 8,
              "xBinEnd": 115532.175,
              "xBinStart": 75733.45,
              "yBinEnd": 2528.575,
              "yBinStart": 2042.35
             },
             {
              "count": 7,
              "xBinEnd": 115532.175,
              "xBinStart": 75733.45,
              "yBinEnd": 3014.8,
              "yBinStart": 2528.575
             },
             {
              "count": 7,
              "xBinEnd": 115532.175,
              "xBinStart": 75733.45,
              "yBinEnd": 3501.025,
              "yBinStart": 3014.8
             },
             {
              "count": 1,
              "xBinEnd": 115532.175,
              "xBinStart": 75733.45,
              "yBinEnd": 3987.25,
              "yBinStart": 3501.025
             },
             {
              "count": 3,
              "xBinEnd": 115532.175,
              "xBinStart": 75733.45,
              "yBinEnd": 4473.475,
              "yBinStart": 3987.25
             },
             {
              "count": 1,
              "xBinEnd": 115532.175,
              "xBinStart": 75733.45,
              "yBinEnd": 4959.7,
              "yBinStart": 4473.475
             },
             {
              "count": 2,
              "xBinEnd": 115532.175,
              "xBinStart": 75733.45,
              "yBinEnd": 5445.925,
              "yBinStart": 4959.7
             },
             {
              "count": 1,
              "xBinEnd": 155330.9,
              "xBinStart": 115532.175,
              "yBinEnd": 583.675,
              "yBinStart": 97.45
             },
             {
              "count": 3,
              "xBinEnd": 155330.9,
              "xBinStart": 115532.175,
              "yBinEnd": 1069.9,
              "yBinStart": 583.675
             },
             {
              "count": 5,
              "xBinEnd": 155330.9,
              "xBinStart": 115532.175,
              "yBinEnd": 1556.125,
              "yBinStart": 1069.9
             },
             {
              "count": 4,
              "xBinEnd": 155330.9,
              "xBinStart": 115532.175,
              "yBinEnd": 2042.35,
              "yBinStart": 1556.125
             },
             {
              "count": 5,
              "xBinEnd": 155330.9,
              "xBinStart": 115532.175,
              "yBinEnd": 2528.575,
              "yBinStart": 2042.35
             },
             {
              "count": 6,
              "xBinEnd": 155330.9,
              "xBinStart": 115532.175,
              "yBinEnd": 3014.8,
              "yBinStart": 2528.575
             },
             {
              "count": 6,
              "xBinEnd": 155330.9,
              "xBinStart": 115532.175,
              "yBinEnd": 3501.025,
              "yBinStart": 3014.8
             },
             {
              "count": 1,
              "xBinEnd": 155330.9,
              "xBinStart": 115532.175,
              "yBinEnd": 3987.25,
              "yBinStart": 3501.025
             },
             {
              "count": 1,
              "xBinEnd": 155330.9,
              "xBinStart": 115532.175,
              "yBinEnd": 4473.475,
              "yBinStart": 3987.25
             },
             {
              "count": 2,
              "xBinEnd": 155330.9,
              "xBinStart": 115532.175,
              "yBinEnd": 5445.925,
              "yBinStart": 4959.7
             },
             {
              "count": 1,
              "xBinEnd": 155330.9,
              "xBinStart": 115532.175,
              "yBinEnd": 6418.375,
              "yBinStart": 5932.15
             },
             {
              "count": 3,
              "xBinEnd": 155330.9,
              "xBinStart": 115532.175,
              "yBinEnd": 6904.6,
              "yBinStart": 6418.375
             },
             {
              "count": 1,
              "xBinEnd": 195129.625,
              "xBinStart": 155330.9,
              "yBinEnd": 1069.9,
              "yBinStart": 583.675
             },
             {
              "count": 2,
              "xBinEnd": 195129.625,
              "xBinStart": 155330.9,
              "yBinEnd": 1556.125,
              "yBinStart": 1069.9
             },
             {
              "count": 2,
              "xBinEnd": 195129.625,
              "xBinStart": 155330.9,
              "yBinEnd": 2042.35,
              "yBinStart": 1556.125
             },
             {
              "count": 4,
              "xBinEnd": 195129.625,
              "xBinStart": 155330.9,
              "yBinEnd": 2528.575,
              "yBinStart": 2042.35
             },
             {
              "count": 2,
              "xBinEnd": 195129.625,
              "xBinStart": 155330.9,
              "yBinEnd": 3014.8,
              "yBinStart": 2528.575
             },
             {
              "count": 4,
              "xBinEnd": 195129.625,
              "xBinStart": 155330.9,
              "yBinEnd": 3501.025,
              "yBinStart": 3014.8
             },
             {
              "count": 3,
              "xBinEnd": 195129.625,
              "xBinStart": 155330.9,
              "yBinEnd": 3987.25,
              "yBinStart": 3501.025
             },
             {
              "count": 5,
              "xBinEnd": 195129.625,
              "xBinStart": 155330.9,
              "yBinEnd": 4473.475,
              "yBinStart": 3987.25
             },
             {
              "count": 2,
              "xBinEnd": 195129.625,
              "xBinStart": 155330.9,
              "yBinEnd": 4959.7,
              "yBinStart": 4473.475
             },
             {
              "count": 2,
              "xBinEnd": 195129.625,
              "xBinStart": 155330.9,
              "yBinEnd": 5445.925,
              "yBinStart": 4959.7
             },
             {
              "count": 1,
              "xBinEnd": 195129.625,
              "xBinStart": 155330.9,
              "yBinEnd": 6904.6,
              "yBinStart": 6418.375
             },
             {
              "count": 2,
              "xBinEnd": 195129.625,
              "xBinStart": 155330.9,
              "yBinEnd": 7390.825,
              "yBinStart": 6904.6
             },
             {
              "count": 1,
              "xBinEnd": 195129.625,
              "xBinStart": 155330.9,
              "yBinEnd": 8363.275,
              "yBinStart": 7877.05
             },
             {
              "count": 1,
              "xBinEnd": 195129.625,
              "xBinStart": 155330.9,
              "yBinEnd": 10308.175,
              "yBinStart": 9821.95
             },
             {
              "count": 1,
              "xBinEnd": 195129.625,
              "xBinStart": 155330.9,
              "yBinEnd": 12253.075,
              "yBinStart": 11766.85
             },
             {
              "count": 1,
              "xBinEnd": 195129.625,
              "xBinStart": 155330.9,
              "yBinEnd": 13225.525,
              "yBinStart": 12739.3
             },
             {
              "count": 1,
              "xBinEnd": 234928.35,
              "xBinStart": 195129.625,
              "yBinEnd": 1556.125,
              "yBinStart": 1069.9
             },
             {
              "count": 2,
              "xBinEnd": 234928.35,
              "xBinStart": 195129.625,
              "yBinEnd": 3014.8,
              "yBinStart": 2528.575
             },
             {
              "count": 2,
              "xBinEnd": 234928.35,
              "xBinStart": 195129.625,
              "yBinEnd": 3501.025,
              "yBinStart": 3014.8
             },
             {
              "count": 1,
              "xBinEnd": 234928.35,
              "xBinStart": 195129.625,
              "yBinEnd": 3987.25,
              "yBinStart": 3501.025
             },
             {
              "count": 1,
              "xBinEnd": 234928.35,
              "xBinStart": 195129.625,
              "yBinEnd": 4959.7,
              "yBinStart": 4473.475
             },
             {
              "count": 1,
              "xBinEnd": 234928.35,
              "xBinStart": 195129.625,
              "yBinEnd": 5445.925,
              "yBinStart": 4959.7
             },
             {
              "count": 2,
              "xBinEnd": 234928.35,
              "xBinStart": 195129.625,
              "yBinEnd": 7390.825,
              "yBinStart": 6904.6
             },
             {
              "count": 1,
              "xBinEnd": 234928.35,
              "xBinStart": 195129.625,
              "yBinEnd": 12739.3,
              "yBinStart": 12253.075
             },
             {
              "count": 1,
              "xBinEnd": 234928.35,
              "xBinStart": 195129.625,
              "yBinEnd": 14197.975,
              "yBinStart": 13711.75
             },
             {
              "count": 1,
              "xBinEnd": 234928.35,
              "xBinStart": 195129.625,
              "yBinEnd": 18574,
              "yBinStart": 18087.775
             },
             {
              "count": 1,
              "xBinEnd": 274727.075,
              "xBinStart": 234928.35,
              "yBinEnd": 1556.125,
              "yBinStart": 1069.9
             },
             {
              "count": 1,
              "xBinEnd": 274727.075,
              "xBinStart": 234928.35,
              "yBinEnd": 3501.025,
              "yBinStart": 3014.8
             },
             {
              "count": 2,
              "xBinEnd": 274727.075,
              "xBinStart": 234928.35,
              "yBinEnd": 3987.25,
              "yBinStart": 3501.025
             },
             {
              "count": 1,
              "xBinEnd": 274727.075,
              "xBinStart": 234928.35,
              "yBinEnd": 4473.475,
              "yBinStart": 3987.25
             },
             {
              "count": 1,
              "xBinEnd": 274727.075,
              "xBinStart": 234928.35,
              "yBinEnd": 4959.7,
              "yBinStart": 4473.475
             },
             {
              "count": 1,
              "xBinEnd": 274727.075,
              "xBinStart": 234928.35,
              "yBinEnd": 5445.925,
              "yBinStart": 4959.7
             },
             {
              "count": 1,
              "xBinEnd": 274727.075,
              "xBinStart": 234928.35,
              "yBinEnd": 5932.15,
              "yBinStart": 5445.925
             },
             {
              "count": 1,
              "xBinEnd": 274727.075,
              "xBinStart": 234928.35,
              "yBinEnd": 6418.375,
              "yBinStart": 5932.15
             },
             {
              "count": 1,
              "xBinEnd": 274727.075,
              "xBinStart": 234928.35,
              "yBinEnd": 6904.6,
              "yBinStart": 6418.375
             },
             {
              "count": 3,
              "xBinEnd": 274727.075,
              "xBinStart": 234928.35,
              "yBinEnd": 7390.825,
              "yBinStart": 6904.6
             },
             {
              "count": 1,
              "xBinEnd": 314525.8,
              "xBinStart": 274727.075,
              "yBinEnd": 2528.575,
              "yBinStart": 2042.35
             },
             {
              "count": 2,
              "xBinEnd": 314525.8,
              "xBinStart": 274727.075,
              "yBinEnd": 3501.025,
              "yBinStart": 3014.8
             },
             {
              "count": 2,
              "xBinEnd": 314525.8,
              "xBinStart": 274727.075,
              "yBinEnd": 3987.25,
              "yBinStart": 3501.025
             },
             {
              "count": 2,
              "xBinEnd": 314525.8,
              "xBinStart": 274727.075,
              "yBinEnd": 4473.475,
              "yBinStart": 3987.25
             },
             {
              "count": 3,
              "xBinEnd": 314525.8,
              "xBinStart": 274727.075,
              "yBinEnd": 5445.925,
              "yBinStart": 4959.7
             },
             {
              "count": 2,
              "xBinEnd": 314525.8,
              "xBinStart": 274727.075,
              "yBinEnd": 5932.15,
              "yBinStart": 5445.925
             },
             {
              "count": 1,
              "xBinEnd": 314525.8,
              "xBinStart": 274727.075,
              "yBinEnd": 6418.375,
              "yBinStart": 5932.15
             },
             {
              "count": 2,
              "xBinEnd": 314525.8,
              "xBinStart": 274727.075,
              "yBinEnd": 6904.6,
              "yBinStart": 6418.375
             },
             {
              "count": 1,
              "xBinEnd": 314525.8,
              "xBinStart": 274727.075,
              "yBinEnd": 7390.825,
              "yBinStart": 6904.6
             },
             {
              "count": 2,
              "xBinEnd": 354324.525,
              "xBinStart": 314525.8,
              "yBinEnd": 3987.25,
              "yBinStart": 3501.025
             },
             {
              "count": 2,
              "xBinEnd": 354324.525,
              "xBinStart": 314525.8,
              "yBinEnd": 4473.475,
              "yBinStart": 3987.25
             },
             {
              "count": 2,
              "xBinEnd": 354324.525,
              "xBinStart": 314525.8,
              "yBinEnd": 5445.925,
              "yBinStart": 4959.7
             },
             {
              "count": 1,
              "xBinEnd": 354324.525,
              "xBinStart": 314525.8,
              "yBinEnd": 6418.375,
              "yBinStart": 5932.15
             },
             {
              "count": 1,
              "xBinEnd": 354324.525,
              "xBinStart": 314525.8,
              "yBinEnd": 7390.825,
              "yBinStart": 6904.6
             },
             {
              "count": 1,
              "xBinEnd": 354324.525,
              "xBinStart": 314525.8,
              "yBinEnd": 7877.05,
              "yBinStart": 7390.825
             },
             {
              "count": 1,
              "xBinEnd": 394123.25,
              "xBinStart": 354324.525,
              "yBinEnd": 3501.025,
              "yBinStart": 3014.8
             },
             {
              "count": 1,
              "xBinEnd": 394123.25,
              "xBinStart": 354324.525,
              "yBinEnd": 4473.475,
              "yBinStart": 3987.25
             },
             {
              "count": 1,
              "xBinEnd": 394123.25,
              "xBinStart": 354324.525,
              "yBinEnd": 4959.7,
              "yBinStart": 4473.475
             },
             {
              "count": 1,
              "xBinEnd": 394123.25,
              "xBinStart": 354324.525,
              "yBinEnd": 5445.925,
              "yBinStart": 4959.7
             },
             {
              "count": 1,
              "xBinEnd": 394123.25,
              "xBinStart": 354324.525,
              "yBinEnd": 5932.15,
              "yBinStart": 5445.925
             },
             {
              "count": 1,
              "xBinEnd": 394123.25,
              "xBinStart": 354324.525,
              "yBinEnd": 7390.825,
              "yBinStart": 6904.6
             },
             {
              "count": 1,
              "xBinEnd": 394123.25,
              "xBinStart": 354324.525,
              "yBinEnd": 8363.275,
              "yBinStart": 7877.05
             },
             {
              "count": 1,
              "xBinEnd": 433921.975,
              "xBinStart": 394123.25,
              "yBinEnd": 5445.925,
              "yBinStart": 4959.7
             },
             {
              "count": 1,
              "xBinEnd": 433921.975,
              "xBinStart": 394123.25,
              "yBinEnd": 5932.15,
              "yBinStart": 5445.925
             },
             {
              "count": 1,
              "xBinEnd": 433921.975,
              "xBinStart": 394123.25,
              "yBinEnd": 6418.375,
              "yBinStart": 5932.15
             },
             {
              "count": 1,
              "xBinEnd": 433921.975,
              "xBinStart": 394123.25,
              "yBinEnd": 6904.6,
              "yBinStart": 6418.375
             },
             {
              "count": 1,
              "xBinEnd": 473720.7,
              "xBinStart": 433921.975,
              "yBinEnd": 5445.925,
              "yBinStart": 4959.7
             },
             {
              "count": 1,
              "xBinEnd": 473720.7,
              "xBinStart": 433921.975,
              "yBinEnd": 6418.375,
              "yBinStart": 5932.15
             },
             {
              "count": 1,
              "xBinEnd": 473720.7,
              "xBinStart": 433921.975,
              "yBinEnd": 6904.6,
              "yBinStart": 6418.375
             },
             {
              "count": 1,
              "xBinEnd": 473720.7,
              "xBinStart": 433921.975,
              "yBinEnd": 8363.275,
              "yBinStart": 7877.05
             },
             {
              "count": 1,
              "xBinEnd": 513519.425,
              "xBinStart": 473720.7,
              "yBinEnd": 5932.15,
              "yBinStart": 5445.925
             },
             {
              "count": 1,
              "xBinEnd": 513519.425,
              "xBinStart": 473720.7,
              "yBinEnd": 6904.6,
              "yBinStart": 6418.375
             },
             {
              "count": 2,
              "xBinEnd": 553318.15,
              "xBinStart": 513519.425,
              "yBinEnd": 7390.825,
              "yBinStart": 6904.6
             },
             {
              "count": 1,
              "xBinEnd": 593116.875,
              "xBinStart": 553318.15,
              "yBinEnd": 5932.15,
              "yBinStart": 5445.925
             },
             {
              "count": 1,
              "xBinEnd": 593116.875,
              "xBinStart": 553318.15,
              "yBinEnd": 7390.825,
              "yBinStart": 6904.6
             },
             {
              "count": 1,
              "xBinEnd": 593116.875,
              "xBinStart": 553318.15,
              "yBinEnd": 7877.05,
              "yBinStart": 7390.825
             },
             {
              "count": 2,
              "xBinEnd": 672714.325,
              "xBinStart": 632915.6,
              "yBinEnd": 8363.275,
              "yBinStart": 7877.05
             },
             {
              "count": 1,
              "xBinEnd": 792110.5,
              "xBinStart": 752311.775,
              "yBinEnd": 6904.6,
              "yBinStart": 6418.375
             },
             {
              "count": 1,
              "xBinEnd": 1070701.575,
              "xBinStart": 1030902.85,
              "yBinEnd": 8849.5,
              "yBinStart": 8363.275
             },
             {
              "count": 1,
              "xBinEnd": 1150299.025,
              "xBinStart": 1110500.3,
              "yBinEnd": 10308.175,
              "yBinStart": 9821.95
             },
             {
              "count": 1,
              "xBinEnd": 1229896.475,
              "xBinStart": 1190097.75,
              "yBinEnd": 10794.4,
              "yBinStart": 10308.175
             },
             {
              "count": 1,
              "xBinEnd": 1309493.925,
              "xBinStart": 1269695.2,
              "yBinEnd": 15656.65,
              "yBinStart": 15170.425
             },
             {
              "count": 1,
              "xBinEnd": 1389091.375,
              "xBinStart": 1349292.65,
              "yBinEnd": 15656.65,
              "yBinStart": 15170.425
             },
             {
              "count": 1,
              "xBinEnd": 1508487.55,
              "xBinStart": 1468688.825,
              "yBinEnd": 17115.325,
              "yBinStart": 16629.1
             },
             {
              "count": 1,
              "xBinEnd": 1508487.55,
              "xBinStart": 1468688.825,
              "yBinEnd": 18574,
              "yBinStart": 18087.775
             },
             {
              "count": 1,
              "xBinEnd": 1588085,
              "xBinStart": 1548286.275,
              "yBinEnd": 18574,
              "yBinStart": 18087.775
             }
            ]
           },
           "encoding": {
            "opacity": {
             "field": "count",
             "legend": null,
             "scale": {
              "type": "log"
             },
             "type": "quantitative"
            },
            "x": {
             "axis": {
              "title": "cases_weekly"
             },
             "bin": {
              "binned": true
             },
             "field": "xBinStart",
             "type": "quantitative"
            },
            "x2": {
             "field": "xBinEnd"
            },
            "y": {
             "axis": {
              "title": "deaths_weekly"
             },
             "bin": {
              "binned": true
             },
             "field": "yBinStart",
             "type": "quantitative"
            },
            "y2": {
             "field": "yBinEnd"
            }
           },
           "height": 150,
           "mark": "rect",
           "selection": {
            "selector001": {
             "bind": "scales",
             "encodings": [
              "x",
              "y"
             ],
             "type": "interval"
            }
           },
           "width": 160
          }
         ]
        },
        {
         "action": "Distribution",
         "description": "Show univariate histograms of <p class='highlight-descriptor'>quantitative</p>  attributes.",
         "vspec": [
          {
           "$schema": "https://vega.github.io/schema/vega-lite/v4.8.1.json",
           "config": {
            "axis": {
             "labelColor": "#505050",
             "labelFont": "Helvetica Neue",
             "labelFontSize": 9,
             "labelFontWeight": 400,
             "titleFont": "Helvetica Neue",
             "titleFontSize": 11,
             "titleFontWeight": 500
            },
            "legend": {
             "labelFont": "Helvetica Neue",
             "labelFontSize": 9,
             "labelFontWeight": 400,
             "titleFont": "Helvetica Neue",
             "titleFontSize": 10,
             "titleFontWeight": 500
            },
            "title": {
             "font": "Helvetica Neue",
             "fontSize": 13,
             "fontWeight": 500
            },
            "view": {
             "continuousHeight": 300,
             "continuousWidth": 400
            }
           },
           "data": {
            "name": "data-5096e75422fae208422527ec16c8c7c9"
           },
           "datasets": {
            "data-5096e75422fae208422527ec16c8c7c9": [
             {
              "Number of Records": 9459,
              "cases_weekly": 75733.45
             },
             {
              "Number of Records": 76,
              "cases_weekly": 234928.34999999998
             },
             {
              "Number of Records": 24,
              "cases_weekly": 394123.25
             },
             {
              "Number of Records": 7,
              "cases_weekly": 553318.1499999999
             },
             {
              "Number of Records": 3,
              "cases_weekly": 712513.05
             },
             {
              "Number of Records": 0,
              "cases_weekly": 871707.95
             },
             {
              "Number of Records": 1,
              "cases_weekly": 1030902.85
             },
             {
              "Number of Records": 2,
              "cases_weekly": 1190097.75
             },
             {
              "Number of Records": 2,
              "cases_weekly": 1349292.65
             },
             {
              "Number of Records": 3,
              "cases_weekly": 1508487.5499999998
             }
            ]
           },
           "encoding": {
            "x": {
             "axis": {
              "labelOverlap": true,
              "title": "cases_weekly (binned)"
             },
             "bin": {
              "binned": true
             },
             "field": "cases_weekly",
             "scale": {
              "domain": [
               -3864,
               1588085
              ]
             },
             "title": "cases_weekly (binned)",
             "type": "quantitative"
            },
            "y": {
             "field": "Number of Records",
             "type": "quantitative"
            }
           },
           "height": 150,
           "mark": {
            "size": 10.799999999999999,
            "type": "bar"
           },
           "width": 160
          },
          {
           "$schema": "https://vega.github.io/schema/vega-lite/v4.8.1.json",
           "config": {
            "axis": {
             "labelColor": "#505050",
             "labelFont": "Helvetica Neue",
             "labelFontSize": 9,
             "labelFontWeight": 400,
             "titleFont": "Helvetica Neue",
             "titleFontSize": 11,
             "titleFontWeight": 500
            },
            "legend": {
             "labelFont": "Helvetica Neue",
             "labelFontSize": 9,
             "labelFontWeight": 400,
             "titleFont": "Helvetica Neue",
             "titleFontSize": 10,
             "titleFontWeight": 500
            },
            "title": {
             "font": "Helvetica Neue",
             "fontSize": 13,
             "fontWeight": 500
            },
            "view": {
             "continuousHeight": 300,
             "continuousWidth": 400
            }
           },
           "data": {
            "name": "data-4f4d00fdbc48eb6833cf33db1a3f6b2b"
           },
           "datasets": {
            "data-4f4d00fdbc48eb6833cf33db1a3f6b2b": [
             {
              "Number of Records": 9184,
              "deaths_weekly": 97.45000000000005
             },
             {
              "Number of Records": 216,
              "deaths_weekly": 2042.3500000000001
             },
             {
              "Number of Records": 92,
              "deaths_weekly": 3987.2500000000005
             },
             {
              "Number of Records": 51,
              "deaths_weekly": 5932.150000000001
             },
             {
              "Number of Records": 21,
              "deaths_weekly": 7877.05
             },
             {
              "Number of Records": 3,
              "deaths_weekly": 9821.95
             },
             {
              "Number of Records": 2,
              "deaths_weekly": 11766.850000000002
             },
             {
              "Number of Records": 2,
              "deaths_weekly": 13711.75
             },
             {
              "Number of Records": 2,
              "deaths_weekly": 15656.650000000001
             },
             {
              "Number of Records": 4,
              "deaths_weekly": 17601.550000000003
             }
            ]
           },
           "encoding": {
            "x": {
             "axis": {
              "labelOverlap": true,
              "title": "deaths_weekly (binned)"
             },
             "bin": {
              "binned": true
             },
             "field": "deaths_weekly",
             "scale": {
              "domain": [
               -875,
               18574
              ]
             },
             "title": "deaths_weekly (binned)",
             "type": "quantitative"
            },
            "y": {
             "field": "Number of Records",
             "type": "quantitative"
            }
           },
           "height": 150,
           "mark": {
            "size": 10.8,
            "type": "bar"
           },
           "width": 160
          },
          {
           "$schema": "https://vega.github.io/schema/vega-lite/v4.8.1.json",
           "config": {
            "axis": {
             "labelColor": "#505050",
             "labelFont": "Helvetica Neue",
             "labelFontSize": 9,
             "labelFontWeight": 400,
             "titleFont": "Helvetica Neue",
             "titleFontSize": 11,
             "titleFontWeight": 500
            },
            "legend": {
             "labelFont": "Helvetica Neue",
             "labelFontSize": 9,
             "labelFontWeight": 400,
             "titleFont": "Helvetica Neue",
             "titleFontSize": 10,
             "titleFontWeight": 500
            },
            "title": {
             "font": "Helvetica Neue",
             "fontSize": 13,
             "fontWeight": 500
            },
            "view": {
             "continuousHeight": 300,
             "continuousWidth": 400
            }
           },
           "data": {
            "name": "data-bf53a10b1bffa0348b11c6a2a36887de"
           },
           "datasets": {
            "data-bf53a10b1bffa0348b11c6a2a36887de": [
             {
              "Number of Records": 9088,
              "popData2019": 71689958.85
             },
             {
              "Number of Records": 309,
              "popData2019": 215068246.54999998
             },
             {
              "Number of Records": 53,
              "popData2019": 358446534.25
             },
             {
              "Number of Records": 0,
              "popData2019": 501824821.9499999
             },
             {
              "Number of Records": 0,
              "popData2019": 645203109.65
             },
             {
              "Number of Records": 0,
              "popData2019": 788581397.3499999
             },
             {
              "Number of Records": 0,
              "popData2019": 931959685.05
             },
             {
              "Number of Records": 0,
              "popData2019": 1075337972.75
             },
             {
              "Number of Records": 0,
              "popData2019": 1218716260.4499998
             },
             {
              "Number of Records": 106,
              "popData2019": 1362094548.15
             }
            ]
           },
           "encoding": {
            "x": {
             "axis": {
              "labelOverlap": true,
              "title": "popData2019 (binned)"
             },
             "bin": {
              "binned": true
             },
             "field": "popData2019",
             "scale": {
              "domain": [
               815,
               1433783692
              ]
             },
             "title": "popData2019 (binned)",
             "type": "quantitative"
            },
            "y": {
             "field": "Number of Records",
             "type": "quantitative"
            }
           },
           "height": 150,
           "mark": {
            "size": 10.8,
            "type": "bar"
           },
           "width": 160
          },
          {
           "$schema": "https://vega.github.io/schema/vega-lite/v4.8.1.json",
           "config": {
            "axis": {
             "labelColor": "#505050",
             "labelFont": "Helvetica Neue",
             "labelFontSize": 9,
             "labelFontWeight": 400,
             "titleFont": "Helvetica Neue",
             "titleFontSize": 11,
             "titleFontWeight": 500
            },
            "legend": {
             "labelFont": "Helvetica Neue",
             "labelFontSize": 9,
             "labelFontWeight": 400,
             "titleFont": "Helvetica Neue",
             "titleFontSize": 10,
             "titleFontWeight": 500
            },
            "title": {
             "font": "Helvetica Neue",
             "fontSize": 13,
             "fontWeight": 500
            },
            "view": {
             "continuousHeight": 300,
             "continuousWidth": 400
            }
           },
           "data": {
            "name": "data-d394cad11b2976e7a89a27b746428a36"
           },
           "datasets": {
            "data-d394cad11b2976e7a89a27b746428a36": [
             {
              "Number of Records": 8439,
              "notification_rate_per_100000_population_14-days": 46.40299999999999
             },
             {
              "Number of Records": 650,
              "notification_rate_per_100000_population_14-days": 404.40899999999993
             },
             {
              "Number of Records": 163,
              "notification_rate_per_100000_population_14-days": 762.415
             },
             {
              "Number of Records": 64,
              "notification_rate_per_100000_population_14-days": 1120.421
             },
             {
              "Number of Records": 19,
              "notification_rate_per_100000_population_14-days": 1478.427
             },
             {
              "Number of Records": 8,
              "notification_rate_per_100000_population_14-days": 1836.433
             },
             {
              "Number of Records": 0,
              "notification_rate_per_100000_population_14-days": 2194.4390000000003
             },
             {
              "Number of Records": 0,
              "notification_rate_per_100000_population_14-days": 2552.4449999999997
             },
             {
              "Number of Records": 0,
              "notification_rate_per_100000_population_14-days": 2910.451
             },
             {
              "Number of Records": 1,
              "notification_rate_per_100000_population_14-days": 3268.457
             }
            ]
           },
           "encoding": {
            "x": {
             "axis": {
              "labelOverlap": true,
              "title": "notificati...14-days (binned)"
             },
             "bin": {
              "binned": true
             },
             "field": "notification_rate_per_100000_population_14-days",
             "scale": {
              "domain": [
               -132.6,
               3447.46
              ]
             },
             "title": "notification_rate_per_100000_population_14-days (binned)",
             "type": "quantitative"
            },
            "y": {
             "field": "Number of Records",
             "type": "quantitative"
            }
           },
           "height": 150,
           "mark": {
            "size": 10.8,
            "type": "bar"
           },
           "width": 160
          }
         ]
        },
        {
         "action": "Occurrence",
         "description": "Show frequency of occurrence for <p class='highlight-descriptor'>categorical</p> attributes.",
         "vspec": [
          {
           "$schema": "https://vega.github.io/schema/vega-lite/v4.8.1.json",
           "config": {
            "axis": {
             "labelColor": "#505050",
             "labelFont": "Helvetica Neue",
             "labelFontSize": 9,
             "labelFontWeight": 400,
             "titleFont": "Helvetica Neue",
             "titleFontSize": 11,
             "titleFontWeight": 500
            },
            "legend": {
             "labelFont": "Helvetica Neue",
             "labelFontSize": 9,
             "labelFontWeight": 400,
             "titleFont": "Helvetica Neue",
             "titleFontSize": 10,
             "titleFontWeight": 500
            },
            "mark": {
             "tooltip": {
              "content": "encoding"
             }
            },
            "title": {
             "font": "Helvetica Neue",
             "fontSize": 13,
             "fontWeight": 500
            },
            "view": {
             "continuousHeight": 300,
             "continuousWidth": 400
            }
           },
           "data": {
            "name": "data-c8bf0bfbe0ab3e02193d3f2748b33b74"
           },
           "datasets": {
            "data-c8bf0bfbe0ab3e02193d3f2748b33b74": [
             {
              "Record": 2332,
              "continentExp": "Africa"
             },
             {
              "Record": 2129,
              "continentExp": "America"
             },
             {
              "Record": 2039,
              "continentExp": "Asia"
             },
             {
              "Record": 2670,
              "continentExp": "Europe"
             },
             {
              "Record": 398,
              "continentExp": "Oceania"
             },
             {
              "Record": 9,
              "continentExp": "Other"
             }
            ]
           },
           "encoding": {
            "x": {
             "axis": {
              "title": "Number of Records"
             },
             "field": "Record",
             "title": "Number of Records",
             "type": "quantitative"
            },
            "y": {
             "axis": {
              "labelOverlap": true,
              "title": "continentExp"
             },
             "field": "continentExp",
             "sort": "-x",
             "type": "nominal"
            }
           },
           "height": 150,
           "mark": "bar",
           "width": 160
          },
          {
           "$schema": "https://vega.github.io/schema/vega-lite/v4.8.1.json",
           "config": {
            "axis": {
             "labelColor": "#505050",
             "labelFont": "Helvetica Neue",
             "labelFontSize": 9,
             "labelFontWeight": 400,
             "titleFont": "Helvetica Neue",
             "titleFontSize": 11,
             "titleFontWeight": 500
            },
            "legend": {
             "labelFont": "Helvetica Neue",
             "labelFontSize": 9,
             "labelFontWeight": 400,
             "titleFont": "Helvetica Neue",
             "titleFontSize": 10,
             "titleFontWeight": 500
            },
            "mark": {
             "tooltip": {
              "content": "encoding"
             }
            },
            "title": {
             "font": "Helvetica Neue",
             "fontSize": 13,
             "fontWeight": 500
            },
            "view": {
             "continuousHeight": 300,
             "continuousWidth": 400
            }
           },
           "datasets": {
            "data-9983ec9c33401bbb5d6028e8fe76c513": [
             {
              "Record": 213,
              "year_week": "2020-46"
             },
             {
              "Record": 213,
              "year_week": "2020-47"
             },
             {
              "Record": 213,
              "year_week": "2020-48"
             },
             {
              "Record": 213,
              "year_week": "2020-49"
             },
             {
              "Record": 213,
              "year_week": "2020-50"
             },
             {
              "Record": 213,
              "year_week": "2020-51"
             },
             {
              "Record": 213,
              "year_week": "2020-52"
             },
             {
              "Record": 213,
              "year_week": "2020-53"
             },
             {
              "Record": 212,
              "year_week": "2020-44"
             },
             {
              "Record": 212,
              "year_week": "2020-45"
             }
            ]
           },
           "height": 150,
           "layer": [
            {
             "data": {
              "name": "data-9983ec9c33401bbb5d6028e8fe76c513"
             },
             "encoding": {
              "x": {
               "axis": {
                "title": "Number of Records"
               },
               "field": "Record",
               "title": "Number of Records",
               "type": "quantitative"
              },
              "y": {
               "axis": {
                "labelOverlap": true,
                "title": "year_week"
               },
               "field": "year_week",
               "sort": "-x",
               "type": "nominal"
              }
             },
             "mark": "bar"
            },
            {
             "data": {
              "name": "data-9983ec9c33401bbb5d6028e8fe76c513"
             },
             "mark": {
              "align": "right",
              "color": "#ff8e04",
              "fontSize": 11,
              "text": "+ 43 more ...",
              "type": "text",
              "x": 155,
              "y": 142
             }
            }
           ],
           "width": 160
          },
          {
           "$schema": "https://vega.github.io/schema/vega-lite/v4.8.1.json",
           "config": {
            "axis": {
             "labelColor": "#505050",
             "labelFont": "Helvetica Neue",
             "labelFontSize": 9,
             "labelFontWeight": 400,
             "titleFont": "Helvetica Neue",
             "titleFontSize": 11,
             "titleFontWeight": 500
            },
            "legend": {
             "labelFont": "Helvetica Neue",
             "labelFontSize": 9,
             "labelFontWeight": 400,
             "titleFont": "Helvetica Neue",
             "titleFontSize": 10,
             "titleFontWeight": 500
            },
            "mark": {
             "tooltip": {
              "content": "encoding"
             }
            },
            "title": {
             "font": "Helvetica Neue",
             "fontSize": 13,
             "fontWeight": 500
            },
            "view": {
             "continuousHeight": 300,
             "continuousWidth": 400
            }
           },
           "datasets": {
            "data-c291f773219d21eec6a25503bb2bc960": [
             {
              "Record": 53,
              "countryterritoryCode": "AFG"
             },
             {
              "Record": 53,
              "countryterritoryCode": "ARE"
             },
             {
              "Record": 53,
              "countryterritoryCode": "ARM"
             },
             {
              "Record": 53,
              "countryterritoryCode": "AUS"
             },
             {
              "Record": 53,
              "countryterritoryCode": "AUT"
             },
             {
              "Record": 53,
              "countryterritoryCode": "AZE"
             },
             {
              "Record": 53,
              "countryterritoryCode": "BEL"
             },
             {
              "Record": 53,
              "countryterritoryCode": "BHR"
             },
             {
              "Record": 53,
              "countryterritoryCode": "BLR"
             },
             {
              "Record": 53,
              "countryterritoryCode": "BRA"
             }
            ]
           },
           "height": 150,
           "layer": [
            {
             "data": {
              "name": "data-c291f773219d21eec6a25503bb2bc960"
             },
             "encoding": {
              "x": {
               "axis": {
                "title": "Number of Records"
               },
               "field": "Record",
               "title": "Number of Records",
               "type": "quantitative"
              },
              "y": {
               "axis": {
                "labelOverlap": true,
                "title": "countryterritoryCode"
               },
               "field": "countryterritoryCode",
               "sort": "-x",
               "type": "nominal"
              }
             },
             "mark": "bar"
            },
            {
             "data": {
              "name": "data-c291f773219d21eec6a25503bb2bc960"
             },
             "mark": {
              "align": "right",
              "color": "#ff8e04",
              "fontSize": 11,
              "text": "+ 203 more ...",
              "type": "text",
              "x": 155,
              "y": 142
             }
            }
           ],
           "width": 160
          },
          {
           "$schema": "https://vega.github.io/schema/vega-lite/v4.8.1.json",
           "config": {
            "axis": {
             "labelColor": "#505050",
             "labelFont": "Helvetica Neue",
             "labelFontSize": 9,
             "labelFontWeight": 400,
             "titleFont": "Helvetica Neue",
             "titleFontSize": 11,
             "titleFontWeight": 500
            },
            "legend": {
             "labelFont": "Helvetica Neue",
             "labelFontSize": 9,
             "labelFontWeight": 400,
             "titleFont": "Helvetica Neue",
             "titleFontSize": 10,
             "titleFontWeight": 500
            },
            "mark": {
             "tooltip": {
              "content": "encoding"
             }
            },
            "title": {
             "font": "Helvetica Neue",
             "fontSize": 13,
             "fontWeight": 500
            },
            "view": {
             "continuousHeight": 300,
             "continuousWidth": 400
            }
           },
           "datasets": {
            "data-435dcf3c26a82666eedbc2fe0e1804c5": [
             {
              "Record": 53,
              "countriesAndTerritories": "Afghanistan"
             },
             {
              "Record": 53,
              "countriesAndTerritories": "Algeria"
             },
             {
              "Record": 53,
              "countriesAndTerritories": "Armenia"
             },
             {
              "Record": 53,
              "countriesAndTerritories": "Australia"
             },
             {
              "Record": 53,
              "countriesAndTerritories": "Austria"
             },
             {
              "Record": 53,
              "countriesAndTerritories": "Azerbaijan"
             },
             {
              "Record": 53,
              "countriesAndTerritories": "Bahrain"
             },
             {
              "Record": 53,
              "countriesAndTerritories": "Belarus"
             },
             {
              "Record": 53,
              "countriesAndTerritories": "Belgium"
             },
             {
              "Record": 53,
              "countriesAndTerritories": "Brazil"
             }
            ]
           },
           "height": 150,
           "layer": [
            {
             "data": {
              "name": "data-435dcf3c26a82666eedbc2fe0e1804c5"
             },
             "encoding": {
              "x": {
               "axis": {
                "title": "Number of Records"
               },
               "field": "Record",
               "title": "Number of Records",
               "type": "quantitative"
              },
              "y": {
               "axis": {
                "labelOverlap": true,
                "title": "countriesAndTerritories"
               },
               "field": "countriesAndTerritories",
               "sort": "-x",
               "type": "nominal"
              }
             },
             "mark": "bar"
            },
            {
             "data": {
              "name": "data-435dcf3c26a82666eedbc2fe0e1804c5"
             },
             "mark": {
              "align": "right",
              "color": "#ff8e04",
              "fontSize": 11,
              "text": "+ 204 more ...",
              "type": "text",
              "x": 155,
              "y": 142
             }
            }
           ],
           "width": 160
          },
          {
           "$schema": "https://vega.github.io/schema/vega-lite/v4.8.1.json",
           "config": {
            "axis": {
             "labelColor": "#505050",
             "labelFont": "Helvetica Neue",
             "labelFontSize": 9,
             "labelFontWeight": 400,
             "titleFont": "Helvetica Neue",
             "titleFontSize": 11,
             "titleFontWeight": 500
            },
            "legend": {
             "labelFont": "Helvetica Neue",
             "labelFontSize": 9,
             "labelFontWeight": 400,
             "titleFont": "Helvetica Neue",
             "titleFontSize": 10,
             "titleFontWeight": 500
            },
            "mark": {
             "tooltip": {
              "content": "encoding"
             }
            },
            "title": {
             "font": "Helvetica Neue",
             "fontSize": 13,
             "fontWeight": 500
            },
            "view": {
             "continuousHeight": 300,
             "continuousWidth": 400
            }
           },
           "datasets": {
            "data-b420f2d621be19d757dbe6520c486bc0": [
             {
              "Record": 53,
              "geoId": "AE"
             },
             {
              "Record": 53,
              "geoId": "AF"
             },
             {
              "Record": 53,
              "geoId": "AM"
             },
             {
              "Record": 53,
              "geoId": "AT"
             },
             {
              "Record": 53,
              "geoId": "AU"
             },
             {
              "Record": 53,
              "geoId": "AZ"
             },
             {
              "Record": 53,
              "geoId": "BE"
             },
             {
              "Record": 53,
              "geoId": "BH"
             },
             {
              "Record": 53,
              "geoId": "BR"
             },
             {
              "Record": 53,
              "geoId": "BY"
             }
            ]
           },
           "height": 150,
           "layer": [
            {
             "data": {
              "name": "data-b420f2d621be19d757dbe6520c486bc0"
             },
             "encoding": {
              "x": {
               "axis": {
                "title": "Number of Records"
               },
               "field": "Record",
               "title": "Number of Records",
               "type": "quantitative"
              },
              "y": {
               "axis": {
                "labelOverlap": true,
                "title": "geoId"
               },
               "field": "geoId",
               "sort": "-x",
               "type": "nominal"
              }
             },
             "mark": "bar"
            },
            {
             "data": {
              "name": "data-b420f2d621be19d757dbe6520c486bc0"
             },
             "mark": {
              "align": "right",
              "color": "#ff8e04",
              "fontSize": 11,
              "text": "+ 204 more ...",
              "type": "text",
              "x": 155,
              "y": 142
             }
            }
           ],
           "width": 160
          }
         ]
        },
        {
         "action": "Temporal",
         "description": "Show trends over <p class='highlight-descriptor'>time-related</p> attributes.",
         "vspec": [
          {
           "$schema": "https://vega.github.io/schema/vega-lite/v4.8.1.json",
           "config": {
            "axis": {
             "labelColor": "#505050",
             "labelFont": "Helvetica Neue",
             "labelFontSize": 9,
             "labelFontWeight": 400,
             "titleFont": "Helvetica Neue",
             "titleFontSize": 11,
             "titleFontWeight": 500
            },
            "legend": {
             "labelFont": "Helvetica Neue",
             "labelFontSize": 9,
             "labelFontWeight": 400,
             "titleFont": "Helvetica Neue",
             "titleFontSize": 10,
             "titleFontWeight": 500
            },
            "title": {
             "font": "Helvetica Neue",
             "fontSize": 13,
             "fontWeight": 500
            },
            "view": {
             "continuousHeight": 300,
             "continuousWidth": 400
            }
           },
           "data": {
            "name": "data-54b14a5ebce0d2d2c8b2823f6dcf2068"
           },
           "datasets": {
            "data-54b14a5ebce0d2d2c8b2823f6dcf2068": [
             {
              "Record": 209,
              "dateRep": "01/06/2020"
             },
             {
              "Record": 67,
              "dateRep": "02/03/2020"
             },
             {
              "Record": 212,
              "dateRep": "02/11/2020"
             },
             {
              "Record": 67,
              "dateRep": "03/02/2020"
             },
             {
              "Record": 209,
              "dateRep": "03/08/2020"
             },
             {
              "Record": 213,
              "dateRep": "04/01/2021"
             },
             {
              "Record": 208,
              "dateRep": "04/05/2020"
             },
             {
              "Record": 209,
              "dateRep": "05/10/2020"
             },
             {
              "Record": 67,
              "dateRep": "06/01/2020"
             },
             {
              "Record": 203,
              "dateRep": "06/04/2020"
             },
             {
              "Record": 209,
              "dateRep": "06/07/2020"
             },
             {
              "Record": 209,
              "dateRep": "07/09/2020"
             },
             {
              "Record": 213,
              "dateRep": "07/12/2020"
             },
             {
              "Record": 209,
              "dateRep": "08/06/2020"
             },
             {
              "Record": 85,
              "dateRep": "09/03/2020"
             },
             {
              "Record": 212,
              "dateRep": "09/11/2020"
             },
             {
              "Record": 67,
              "dateRep": "10/02/2020"
             },
             {
              "Record": 209,
              "dateRep": "10/08/2020"
             },
             {
              "Record": 208,
              "dateRep": "11/05/2020"
             },
             {
              "Record": 209,
              "dateRep": "12/10/2020"
             },
             {
              "Record": 67,
              "dateRep": "13/01/2020"
             },
             {
              "Record": 205,
              "dateRep": "13/04/2020"
             },
             {
              "Record": 209,
              "dateRep": "13/07/2020"
             },
             {
              "Record": 209,
              "dateRep": "14/09/2020"
             },
             {
              "Record": 213,
              "dateRep": "14/12/2020"
             },
             {
              "Record": 209,
              "dateRep": "15/06/2020"
             },
             {
              "Record": 132,
              "dateRep": "16/03/2020"
             },
             {
              "Record": 213,
              "dateRep": "16/11/2020"
             },
             {
              "Record": 67,
              "dateRep": "17/02/2020"
             },
             {
              "Record": 209,
              "dateRep": "17/08/2020"
             },
             {
              "Record": 209,
              "dateRep": "18/05/2020"
             },
             {
              "Record": 211,
              "dateRep": "19/10/2020"
             },
             {
              "Record": 67,
              "dateRep": "20/01/2020"
             },
             {
              "Record": 205,
              "dateRep": "20/04/2020"
             },
             {
              "Record": 209,
              "dateRep": "20/07/2020"
             },
             {
              "Record": 209,
              "dateRep": "21/09/2020"
             },
             {
              "Record": 213,
              "dateRep": "21/12/2020"
             },
             {
              "Record": 209,
              "dateRep": "22/06/2020"
             },
             {
              "Record": 179,
              "dateRep": "23/03/2020"
             },
             {
              "Record": 213,
              "dateRep": "23/11/2020"
             },
             {
              "Record": 67,
              "dateRep": "24/02/2020"
             },
             {
              "Record": 209,
              "dateRep": "24/08/2020"
             },
             {
              "Record": 209,
              "dateRep": "25/05/2020"
             },
             {
              "Record": 211,
              "dateRep": "26/10/2020"
             },
             {
              "Record": 67,
              "dateRep": "27/01/2020"
             },
             {
              "Record": 206,
              "dateRep": "27/04/2020"
             },
             {
              "Record": 209,
              "dateRep": "27/07/2020"
             },
             {
              "Record": 209,
              "dateRep": "28/09/2020"
             },
             {
              "Record": 213,
              "dateRep": "28/12/2020"
             },
             {
              "Record": 209,
              "dateRep": "29/06/2020"
             },
             {
              "Record": 195,
              "dateRep": "30/03/2020"
             },
             {
              "Record": 213,
              "dateRep": "30/11/2020"
             },
             {
              "Record": 209,
              "dateRep": "31/08/2020"
             }
            ]
           },
           "encoding": {
            "x": {
             "axis": {
              "title": "dateRep"
             },
             "field": "dateRep",
             "type": "temporal"
            },
            "y": {
             "axis": {
              "title": "Record"
             },
             "field": "Record",
             "title": "Number of Records",
             "type": "quantitative"
            }
           },
           "height": 150,
           "mark": "line",
           "selection": {
            "selector002": {
             "bind": "scales",
             "encodings": [
              "x",
              "y"
             ],
             "type": "interval"
            }
           },
           "width": 160
          }
         ]
        }
       ],
       "selectedIntentIndex": {}
      }
     },
     "57994c229b8a4f92bcfa332132f71b7e": {
      "model_module": "@jupyter-widgets/base",
      "model_module_version": "1.2.0",
      "model_name": "LayoutModel",
      "state": {
       "top": "5px",
       "width": "140px"
      }
     },
     "83a17c6f0de543b6af0ec8ab3bd5e3c1": {
      "model_module": "luxwidget",
      "model_module_version": "0.1.3",
      "model_name": "LuxModel",
      "state": {
       "_selectedVisIdxs": {},
       "current_vis": {},
       "data": [],
       "deletedIndices": {},
       "intent": "",
       "layout": "IPY_MODEL_1c2a87fa05e547e097d6f5c998c768cc",
       "message": "<ul><li>Large scatterplots detected: Lux is automatically binning scatterplots to heatmaps.</li></ul>",
       "recommendations": [
        {
         "action": "Correlation",
         "description": "Show relationships between two <p class='highlight-descriptor'>quantitative</p> attributes.",
         "vspec": [
          {
           "$schema": "https://vega.github.io/schema/vega-lite/v4.8.1.json",
           "config": {
            "axis": {
             "labelColor": "#505050",
             "labelFont": "Helvetica Neue",
             "labelFontSize": 9,
             "labelFontWeight": 400,
             "titleFont": "Helvetica Neue",
             "titleFontSize": 11,
             "titleFontWeight": 500
            },
            "legend": {
             "labelFont": "Helvetica Neue",
             "labelFontSize": 9,
             "labelFontWeight": 400,
             "titleFont": "Helvetica Neue",
             "titleFontSize": 10,
             "titleFontWeight": 500
            },
            "mark": {
             "tooltip": {
              "content": "encoding"
             }
            },
            "scale": {
             "maxOpacity": 1,
             "minOpacity": 0.1
            },
            "title": {
             "font": "Helvetica Neue",
             "fontSize": 13,
             "fontWeight": 500
            },
            "view": {
             "continuousHeight": 300,
             "continuousWidth": 400
            }
           },
           "data": {
            "name": "data-3b904ea041ab9f996cb36e39312d1788"
           },
           "datasets": {
            "data-3b904ea041ab9f996cb36e39312d1788": [
             {
              "count": 2,
              "xBinEnd": -388.775,
              "xBinStart": -894.449,
              "yBinEnd": 35934.725,
              "yBinStart": -5455.949
             },
             {
              "count": 8034,
              "xBinEnd": 97.45,
              "xBinStart": -388.775,
              "yBinEnd": 35934.725,
              "yBinStart": -5455.949
             },
             {
              "count": 2,
              "xBinEnd": 97.45,
              "xBinStart": -388.775,
              "yBinEnd": 75733.45,
              "yBinStart": 35934.725
             },
             {
              "count": 892,
              "xBinEnd": 583.675,
              "xBinStart": 97.45,
              "yBinEnd": 35934.725,
              "yBinStart": -5455.949
             },
             {
              "count": 51,
              "xBinEnd": 583.675,
              "xBinStart": 97.45,
              "yBinEnd": 75733.45,
              "yBinStart": 35934.725
             },
             {
              "count": 8,
              "xBinEnd": 583.675,
              "xBinStart": 97.45,
              "yBinEnd": 115532.175,
              "yBinStart": 75733.45
             },
             {
              "count": 1,
              "xBinEnd": 583.675,
              "xBinStart": 97.45,
              "yBinEnd": 155330.9,
              "yBinStart": 115532.175
             },
             {
              "count": 130,
              "xBinEnd": 1069.9,
              "xBinStart": 583.675,
              "yBinEnd": 35934.725,
              "yBinStart": -5455.949
             },
             {
              "count": 51,
              "xBinEnd": 1069.9,
              "xBinStart": 583.675,
              "yBinEnd": 75733.45,
              "yBinStart": 35934.725
             },
             {
              "count": 9,
              "xBinEnd": 1069.9,
              "xBinStart": 583.675,
              "yBinEnd": 115532.175,
              "yBinStart": 75733.45
             },
             {
              "count": 3,
              "xBinEnd": 1069.9,
              "xBinStart": 583.675,
              "yBinEnd": 155330.9,
              "yBinStart": 115532.175
             },
             {
              "count": 1,
              "xBinEnd": 1069.9,
              "xBinStart": 583.675,
              "yBinEnd": 195129.625,
              "yBinStart": 155330.9
             },
             {
              "count": 42,
              "xBinEnd": 1556.125,
              "xBinStart": 1069.9,
              "yBinEnd": 35934.725,
              "yBinStart": -5455.949
             },
             {
              "count": 56,
              "xBinEnd": 1556.125,
              "xBinStart": 1069.9,
              "yBinEnd": 75733.45,
              "yBinStart": 35934.725
             },
             {
              "count": 7,
              "xBinEnd": 1556.125,
              "xBinStart": 1069.9,
              "yBinEnd": 115532.175,
              "yBinStart": 75733.45
             },
             {
              "count": 5,
              "xBinEnd": 1556.125,
              "xBinStart": 1069.9,
              "yBinEnd": 155330.9,
              "yBinStart": 115532.175
             },
             {
              "count": 2,
              "xBinEnd": 1556.125,
              "xBinStart": 1069.9,
              "yBinEnd": 195129.625,
              "yBinStart": 155330.9
             },
             {
              "count": 1,
              "xBinEnd": 1556.125,
              "xBinStart": 1069.9,
              "yBinEnd": 234928.35,
              "yBinStart": 195129.625
             },
             {
              "count": 1,
              "xBinEnd": 1556.125,
              "xBinStart": 1069.9,
              "yBinEnd": 274727.075,
              "yBinStart": 234928.35
             },
             {
              "count": 12,
              "xBinEnd": 2042.35,
              "xBinStart": 1556.125,
              "yBinEnd": 35934.725,
              "yBinStart": -5455.949
             },
             {
              "count": 12,
              "xBinEnd": 2042.35,
              "xBinStart": 1556.125,
              "yBinEnd": 75733.45,
              "yBinStart": 35934.725
             },
             {
              "count": 10,
              "xBinEnd": 2042.35,
              "xBinStart": 1556.125,
              "yBinEnd": 115532.175,
              "yBinStart": 75733.45
             },
             {
              "count": 4,
              "xBinEnd": 2042.35,
              "xBinStart": 1556.125,
              "yBinEnd": 155330.9,
              "yBinStart": 115532.175
             },
             {
              "count": 2,
              "xBinEnd": 2042.35,
              "xBinStart": 1556.125,
              "yBinEnd": 195129.625,
              "yBinStart": 155330.9
             },
             {
              "count": 7,
              "xBinEnd": 2528.575,
              "xBinStart": 2042.35,
              "yBinEnd": 35934.725,
              "yBinStart": -5455.949
             },
             {
              "count": 7,
              "xBinEnd": 2528.575,
              "xBinStart": 2042.35,
              "yBinEnd": 75733.45,
              "yBinStart": 35934.725
             },
             {
              "count": 8,
              "xBinEnd": 2528.575,
              "xBinStart": 2042.35,
              "yBinEnd": 115532.175,
              "yBinStart": 75733.45
             },
             {
              "count": 5,
              "xBinEnd": 2528.575,
              "xBinStart": 2042.35,
              "yBinEnd": 155330.9,
              "yBinStart": 115532.175
             },
             {
              "count": 4,
              "xBinEnd": 2528.575,
              "xBinStart": 2042.35,
              "yBinEnd": 195129.625,
              "yBinStart": 155330.9
             },
             {
              "count": 1,
              "xBinEnd": 2528.575,
              "xBinStart": 2042.35,
              "yBinEnd": 314525.8,
              "yBinStart": 274727.075
             },
             {
              "count": 5,
              "xBinEnd": 3014.8,
              "xBinStart": 2528.575,
              "yBinEnd": 35934.725,
              "yBinStart": -5455.949
             },
             {
              "count": 8,
              "xBinEnd": 3014.8,
              "xBinStart": 2528.575,
              "yBinEnd": 75733.45,
              "yBinStart": 35934.725
             },
             {
              "count": 7,
              "xBinEnd": 3014.8,
              "xBinStart": 2528.575,
              "yBinEnd": 115532.175,
              "yBinStart": 75733.45
             },
             {
              "count": 6,
              "xBinEnd": 3014.8,
              "xBinStart": 2528.575,
              "yBinEnd": 155330.9,
              "yBinStart": 115532.175
             },
             {
              "count": 2,
              "xBinEnd": 3014.8,
              "xBinStart": 2528.575,
              "yBinEnd": 195129.625,
              "yBinStart": 155330.9
             },
             {
              "count": 2,
              "xBinEnd": 3014.8,
              "xBinStart": 2528.575,
              "yBinEnd": 234928.35,
              "yBinStart": 195129.625
             },
             {
              "count": 5,
              "xBinEnd": 3501.025,
              "xBinStart": 3014.8,
              "yBinEnd": 35934.725,
              "yBinStart": -5455.949
             },
             {
              "count": 2,
              "xBinEnd": 3501.025,
              "xBinStart": 3014.8,
              "yBinEnd": 75733.45,
              "yBinStart": 35934.725
             },
             {
              "count": 7,
              "xBinEnd": 3501.025,
              "xBinStart": 3014.8,
              "yBinEnd": 115532.175,
              "yBinStart": 75733.45
             },
             {
              "count": 6,
              "xBinEnd": 3501.025,
              "xBinStart": 3014.8,
              "yBinEnd": 155330.9,
              "yBinStart": 115532.175
             },
             {
              "count": 4,
              "xBinEnd": 3501.025,
              "xBinStart": 3014.8,
              "yBinEnd": 195129.625,
              "yBinStart": 155330.9
             },
             {
              "count": 2,
              "xBinEnd": 3501.025,
              "xBinStart": 3014.8,
              "yBinEnd": 234928.35,
              "yBinStart": 195129.625
             },
             {
              "count": 1,
              "xBinEnd": 3501.025,
              "xBinStart": 3014.8,
              "yBinEnd": 274727.075,
              "yBinStart": 234928.35
             },
             {
              "count": 2,
              "xBinEnd": 3501.025,
              "xBinStart": 3014.8,
              "yBinEnd": 314525.8,
              "yBinStart": 274727.075
             },
             {
              "count": 1,
              "xBinEnd": 3501.025,
              "xBinStart": 3014.8,
              "yBinEnd": 394123.25,
              "yBinStart": 354324.525
             },
             {
              "count": 5,
              "xBinEnd": 3987.25,
              "xBinStart": 3501.025,
              "yBinEnd": 35934.725,
              "yBinStart": -5455.949
             },
             {
              "count": 4,
              "xBinEnd": 3987.25,
              "xBinStart": 3501.025,
              "yBinEnd": 75733.45,
              "yBinStart": 35934.725
             },
             {
              "count": 1,
              "xBinEnd": 3987.25,
              "xBinStart": 3501.025,
              "yBinEnd": 115532.175,
              "yBinStart": 75733.45
             },
             {
              "count": 1,
              "xBinEnd": 3987.25,
              "xBinStart": 3501.025,
              "yBinEnd": 155330.9,
              "yBinStart": 115532.175
             },
             {
              "count": 3,
              "xBinEnd": 3987.25,
              "xBinStart": 3501.025,
              "yBinEnd": 195129.625,
              "yBinStart": 155330.9
             },
             {
              "count": 1,
              "xBinEnd": 3987.25,
              "xBinStart": 3501.025,
              "yBinEnd": 234928.35,
              "yBinStart": 195129.625
             },
             {
              "count": 2,
              "xBinEnd": 3987.25,
              "xBinStart": 3501.025,
              "yBinEnd": 274727.075,
              "yBinStart": 234928.35
             },
             {
              "count": 2,
              "xBinEnd": 3987.25,
              "xBinStart": 3501.025,
              "yBinEnd": 314525.8,
              "yBinStart": 274727.075
             },
             {
              "count": 2,
              "xBinEnd": 3987.25,
              "xBinStart": 3501.025,
              "yBinEnd": 354324.525,
              "yBinStart": 314525.8
             },
             {
              "count": 3,
              "xBinEnd": 4473.475,
              "xBinStart": 3987.25,
              "yBinEnd": 35934.725,
              "yBinStart": -5455.949
             },
             {
              "count": 10,
              "xBinEnd": 4473.475,
              "xBinStart": 3987.25,
              "yBinEnd": 75733.45,
              "yBinStart": 35934.725
             },
             {
              "count": 3,
              "xBinEnd": 4473.475,
              "xBinStart": 3987.25,
              "yBinEnd": 115532.175,
              "yBinStart": 75733.45
             },
             {
              "count": 1,
              "xBinEnd": 4473.475,
              "xBinStart": 3987.25,
              "yBinEnd": 155330.9,
              "yBinStart": 115532.175
             },
             {
              "count": 5,
              "xBinEnd": 4473.475,
              "xBinStart": 3987.25,
              "yBinEnd": 195129.625,
              "yBinStart": 155330.9
             },
             {
              "count": 1,
              "xBinEnd": 4473.475,
              "xBinStart": 3987.25,
              "yBinEnd": 274727.075,
              "yBinStart": 234928.35
             },
             {
              "count": 2,
              "xBinEnd": 4473.475,
              "xBinStart": 3987.25,
              "yBinEnd": 314525.8,
              "yBinStart": 274727.075
             },
             {
              "count": 2,
              "xBinEnd": 4473.475,
              "xBinStart": 3987.25,
              "yBinEnd": 354324.525,
              "yBinStart": 314525.8
             },
             {
              "count": 1,
              "xBinEnd": 4473.475,
              "xBinStart": 3987.25,
              "yBinEnd": 394123.25,
              "yBinStart": 354324.525
             },
             {
              "count": 2,
              "xBinEnd": 4959.7,
              "xBinStart": 4473.475,
              "yBinEnd": 35934.725,
              "yBinStart": -5455.949
             },
             {
              "count": 5,
              "xBinEnd": 4959.7,
              "xBinStart": 4473.475,
              "yBinEnd": 75733.45,
              "yBinStart": 35934.725
             },
             {
              "count": 1,
              "xBinEnd": 4959.7,
              "xBinStart": 4473.475,
              "yBinEnd": 115532.175,
              "yBinStart": 75733.45
             },
             {
              "count": 2,
              "xBinEnd": 4959.7,
              "xBinStart": 4473.475,
              "yBinEnd": 195129.625,
              "yBinStart": 155330.9
             },
             {
              "count": 1,
              "xBinEnd": 4959.7,
              "xBinStart": 4473.475,
              "yBinEnd": 234928.35,
              "yBinStart": 195129.625
             },
             {
              "count": 1,
              "xBinEnd": 4959.7,
              "xBinStart": 4473.475,
              "yBinEnd": 274727.075,
              "yBinStart": 234928.35
             },
             {
              "count": 1,
              "xBinEnd": 4959.7,
              "xBinStart": 4473.475,
              "yBinEnd": 394123.25,
              "yBinStart": 354324.525
             },
             {
              "count": 3,
              "xBinEnd": 5445.925,
              "xBinStart": 4959.7,
              "yBinEnd": 35934.725,
              "yBinStart": -5455.949
             },
             {
              "count": 2,
              "xBinEnd": 5445.925,
              "xBinStart": 4959.7,
              "yBinEnd": 75733.45,
              "yBinStart": 35934.725
             },
             {
              "count": 2,
              "xBinEnd": 5445.925,
              "xBinStart": 4959.7,
              "yBinEnd": 115532.175,
              "yBinStart": 75733.45
             },
             {
              "count": 2,
              "xBinEnd": 5445.925,
              "xBinStart": 4959.7,
              "yBinEnd": 155330.9,
              "yBinStart": 115532.175
             },
             {
              "count": 2,
              "xBinEnd": 5445.925,
              "xBinStart": 4959.7,
              "yBinEnd": 195129.625,
              "yBinStart": 155330.9
             },
             {
              "count": 1,
              "xBinEnd": 5445.925,
              "xBinStart": 4959.7,
              "yBinEnd": 234928.35,
              "yBinStart": 195129.625
             },
             {
              "count": 1,
              "xBinEnd": 5445.925,
              "xBinStart": 4959.7,
              "yBinEnd": 274727.075,
              "yBinStart": 234928.35
             },
             {
              "count": 3,
              "xBinEnd": 5445.925,
              "xBinStart": 4959.7,
              "yBinEnd": 314525.8,
              "yBinStart": 274727.075
             },
             {
              "count": 2,
              "xBinEnd": 5445.925,
              "xBinStart": 4959.7,
              "yBinEnd": 354324.525,
              "yBinStart": 314525.8
             },
             {
              "count": 1,
              "xBinEnd": 5445.925,
              "xBinStart": 4959.7,
              "yBinEnd": 394123.25,
              "yBinStart": 354324.525
             },
             {
              "count": 1,
              "xBinEnd": 5445.925,
              "xBinStart": 4959.7,
              "yBinEnd": 433921.975,
              "yBinStart": 394123.25
             },
             {
              "count": 1,
              "xBinEnd": 5445.925,
              "xBinStart": 4959.7,
              "yBinEnd": 473720.7,
              "yBinStart": 433921.975
             },
             {
              "count": 2,
              "xBinEnd": 5932.15,
              "xBinStart": 5445.925,
              "yBinEnd": 35934.725,
              "yBinStart": -5455.949
             },
             {
              "count": 1,
              "xBinEnd": 5932.15,
              "xBinStart": 5445.925,
              "yBinEnd": 75733.45,
              "yBinStart": 35934.725
             },
             {
              "count": 1,
              "xBinEnd": 5932.15,
              "xBinStart": 5445.925,
              "yBinEnd": 274727.075,
              "yBinStart": 234928.35
             },
             {
              "count": 2,
              "xBinEnd": 5932.15,
              "xBinStart": 5445.925,
              "yBinEnd": 314525.8,
              "yBinStart": 274727.075
             },
             {
              "count": 1,
              "xBinEnd": 5932.15,
              "xBinStart": 5445.925,
              "yBinEnd": 394123.25,
              "yBinStart": 354324.525
             },
             {
              "count": 1,
              "xBinEnd": 5932.15,
              "xBinStart": 5445.925,
              "yBinEnd": 433921.975,
              "yBinStart": 394123.25
             },
             {
              "count": 1,
              "xBinEnd": 5932.15,
              "xBinStart": 5445.925,
              "yBinEnd": 513519.425,
              "yBinStart": 473720.7
             },
             {
              "count": 1,
              "xBinEnd": 5932.15,
              "xBinStart": 5445.925,
              "yBinEnd": 593116.875,
              "yBinStart": 553318.15
             },
             {
              "count": 2,
              "xBinEnd": 6418.375,
              "xBinStart": 5932.15,
              "yBinEnd": 35934.725,
              "yBinStart": -5455.949
             },
             {
              "count": 1,
              "xBinEnd": 6418.375,
              "xBinStart": 5932.15,
              "yBinEnd": 155330.9,
              "yBinStart": 115532.175
             },
             {
              "count": 1,
              "xBinEnd": 6418.375,
              "xBinStart": 5932.15,
              "yBinEnd": 274727.075,
              "yBinStart": 234928.35
             },
             {
              "count": 1,
              "xBinEnd": 6418.375,
              "xBinStart": 5932.15,
              "yBinEnd": 314525.8,
              "yBinStart": 274727.075
             },
             {
              "count": 1,
              "xBinEnd": 6418.375,
              "xBinStart": 5932.15,
              "yBinEnd": 354324.525,
              "yBinStart": 314525.8
             },
             {
              "count": 1,
              "xBinEnd": 6418.375,
              "xBinStart": 5932.15,
              "yBinEnd": 433921.975,
              "yBinStart": 394123.25
             },
             {
              "count": 1,
              "xBinEnd": 6418.375,
              "xBinStart": 5932.15,
              "yBinEnd": 473720.7,
              "yBinStart": 433921.975
             },
             {
              "count": 1,
              "xBinEnd": 6904.6,
              "xBinStart": 6418.375,
              "yBinEnd": 35934.725,
              "yBinStart": -5455.949
             },
             {
              "count": 3,
              "xBinEnd": 6904.6,
              "xBinStart": 6418.375,
              "yBinEnd": 155330.9,
              "yBinStart": 115532.175
             },
             {
              "count": 1,
              "xBinEnd": 6904.6,
              "xBinStart": 6418.375,
              "yBinEnd": 195129.625,
              "yBinStart": 155330.9
             },
             {
              "count": 1,
              "xBinEnd": 6904.6,
              "xBinStart": 6418.375,
              "yBinEnd": 274727.075,
              "yBinStart": 234928.35
             },
             {
              "count": 2,
              "xBinEnd": 6904.6,
              "xBinStart": 6418.375,
              "yBinEnd": 314525.8,
              "yBinStart": 274727.075
             },
             {
              "count": 1,
              "xBinEnd": 6904.6,
              "xBinStart": 6418.375,
              "yBinEnd": 433921.975,
              "yBinStart": 394123.25
             },
             {
              "count": 1,
              "xBinEnd": 6904.6,
              "xBinStart": 6418.375,
              "yBinEnd": 473720.7,
              "yBinStart": 433921.975
             },
             {
              "count": 1,
              "xBinEnd": 6904.6,
              "xBinStart": 6418.375,
              "yBinEnd": 513519.425,
              "yBinStart": 473720.7
             },
             {
              "count": 1,
              "xBinEnd": 6904.6,
              "xBinStart": 6418.375,
              "yBinEnd": 792110.5,
              "yBinStart": 752311.775
             },
             {
              "count": 2,
              "xBinEnd": 7390.825,
              "xBinStart": 6904.6,
              "yBinEnd": 195129.625,
              "yBinStart": 155330.9
             },
             {
              "count": 2,
              "xBinEnd": 7390.825,
              "xBinStart": 6904.6,
              "yBinEnd": 234928.35,
              "yBinStart": 195129.625
             },
             {
              "count": 3,
              "xBinEnd": 7390.825,
              "xBinStart": 6904.6,
              "yBinEnd": 274727.075,
              "yBinStart": 234928.35
             },
             {
              "count": 1,
              "xBinEnd": 7390.825,
              "xBinStart": 6904.6,
              "yBinEnd": 314525.8,
              "yBinStart": 274727.075
             },
             {
              "count": 1,
              "xBinEnd": 7390.825,
              "xBinStart": 6904.6,
              "yBinEnd": 354324.525,
              "yBinStart": 314525.8
             },
             {
              "count": 1,
              "xBinEnd": 7390.825,
              "xBinStart": 6904.6,
              "yBinEnd": 394123.25,
              "yBinStart": 354324.525
             },
             {
              "count": 2,
              "xBinEnd": 7390.825,
              "xBinStart": 6904.6,
              "yBinEnd": 553318.15,
              "yBinStart": 513519.425
             },
             {
              "count": 1,
              "xBinEnd": 7390.825,
              "xBinStart": 6904.6,
              "yBinEnd": 593116.875,
              "yBinStart": 553318.15
             },
             {
              "count": 1,
              "xBinEnd": 7877.05,
              "xBinStart": 7390.825,
              "yBinEnd": 354324.525,
              "yBinStart": 314525.8
             },
             {
              "count": 1,
              "xBinEnd": 7877.05,
              "xBinStart": 7390.825,
              "yBinEnd": 593116.875,
              "yBinStart": 553318.15
             },
             {
              "count": 1,
              "xBinEnd": 8363.275,
              "xBinStart": 7877.05,
              "yBinEnd": 195129.625,
              "yBinStart": 155330.9
             },
             {
              "count": 1,
              "xBinEnd": 8363.275,
              "xBinStart": 7877.05,
              "yBinEnd": 394123.25,
              "yBinStart": 354324.525
             },
             {
              "count": 1,
              "xBinEnd": 8363.275,
              "xBinStart": 7877.05,
              "yBinEnd": 473720.7,
              "yBinStart": 433921.975
             },
             {
              "count": 2,
              "xBinEnd": 8363.275,
              "xBinStart": 7877.05,
              "yBinEnd": 672714.325,
              "yBinStart": 632915.6
             },
             {
              "count": 1,
              "xBinEnd": 8849.5,
              "xBinStart": 8363.275,
              "yBinEnd": 1070701.575,
              "yBinStart": 1030902.85
             },
             {
              "count": 1,
              "xBinEnd": 10308.175,
              "xBinStart": 9821.95,
              "yBinEnd": 195129.625,
              "yBinStart": 155330.9
             },
             {
              "count": 1,
              "xBinEnd": 10308.175,
              "xBinStart": 9821.95,
              "yBinEnd": 1150299.025,
              "yBinStart": 1110500.3
             },
             {
              "count": 1,
              "xBinEnd": 10794.4,
              "xBinStart": 10308.175,
              "yBinEnd": 1229896.475,
              "yBinStart": 1190097.75
             },
             {
              "count": 1,
              "xBinEnd": 12253.075,
              "xBinStart": 11766.85,
              "yBinEnd": 195129.625,
              "yBinStart": 155330.9
             },
             {
              "count": 1,
              "xBinEnd": 12739.3,
              "xBinStart": 12253.075,
              "yBinEnd": 234928.35,
              "yBinStart": 195129.625
             },
             {
              "count": 1,
              "xBinEnd": 13225.525,
              "xBinStart": 12739.3,
              "yBinEnd": 195129.625,
              "yBinStart": 155330.9
             },
             {
              "count": 1,
              "xBinEnd": 14197.975,
              "xBinStart": 13711.75,
              "yBinEnd": 234928.35,
              "yBinStart": 195129.625
             },
             {
              "count": 1,
              "xBinEnd": 15656.65,
              "xBinStart": 15170.425,
              "yBinEnd": 1309493.925,
              "yBinStart": 1269695.2
             },
             {
              "count": 1,
              "xBinEnd": 15656.65,
              "xBinStart": 15170.425,
              "yBinEnd": 1389091.375,
              "yBinStart": 1349292.65
             },
             {
              "count": 1,
              "xBinEnd": 17115.325,
              "xBinStart": 16629.1,
              "yBinEnd": 1508487.55,
              "yBinStart": 1468688.825
             },
             {
              "count": 1,
              "xBinEnd": 18574,
              "xBinStart": 18087.775,
              "yBinEnd": 234928.35,
              "yBinStart": 195129.625
             },
             {
              "count": 1,
              "xBinEnd": 18574,
              "xBinStart": 18087.775,
              "yBinEnd": 1508487.55,
              "yBinStart": 1468688.825
             },
             {
              "count": 1,
              "xBinEnd": 18574,
              "xBinStart": 18087.775,
              "yBinEnd": 1588085,
              "yBinStart": 1548286.275
             }
            ]
           },
           "encoding": {
            "opacity": {
             "field": "count",
             "legend": null,
             "scale": {
              "type": "log"
             },
             "type": "quantitative"
            },
            "x": {
             "axis": {
              "title": "deaths_weekly"
             },
             "bin": {
              "binned": true
             },
             "field": "xBinStart",
             "type": "quantitative"
            },
            "x2": {
             "field": "xBinEnd"
            },
            "y": {
             "axis": {
              "title": "cases_weekly"
             },
             "bin": {
              "binned": true
             },
             "field": "yBinStart",
             "type": "quantitative"
            },
            "y2": {
             "field": "yBinEnd"
            }
           },
           "height": 150,
           "mark": "rect",
           "selection": {
            "selector001": {
             "bind": "scales",
             "encodings": [
              "x",
              "y"
             ],
             "type": "interval"
            }
           },
           "width": 160
          }
         ]
        },
        {
         "action": "Distribution",
         "description": "Show univariate histograms of <p class='highlight-descriptor'>quantitative</p>  attributes.",
         "vspec": [
          {
           "$schema": "https://vega.github.io/schema/vega-lite/v4.8.1.json",
           "config": {
            "axis": {
             "labelColor": "#505050",
             "labelFont": "Helvetica Neue",
             "labelFontSize": 9,
             "labelFontWeight": 400,
             "titleFont": "Helvetica Neue",
             "titleFontSize": 11,
             "titleFontWeight": 500
            },
            "legend": {
             "labelFont": "Helvetica Neue",
             "labelFontSize": 9,
             "labelFontWeight": 400,
             "titleFont": "Helvetica Neue",
             "titleFontSize": 10,
             "titleFontWeight": 500
            },
            "title": {
             "font": "Helvetica Neue",
             "fontSize": 13,
             "fontWeight": 500
            },
            "view": {
             "continuousHeight": 300,
             "continuousWidth": 400
            }
           },
           "data": {
            "name": "data-5096e75422fae208422527ec16c8c7c9"
           },
           "datasets": {
            "data-5096e75422fae208422527ec16c8c7c9": [
             {
              "Number of Records": 9459,
              "cases_weekly": 75733.45
             },
             {
              "Number of Records": 76,
              "cases_weekly": 234928.34999999998
             },
             {
              "Number of Records": 24,
              "cases_weekly": 394123.25
             },
             {
              "Number of Records": 7,
              "cases_weekly": 553318.1499999999
             },
             {
              "Number of Records": 3,
              "cases_weekly": 712513.05
             },
             {
              "Number of Records": 0,
              "cases_weekly": 871707.95
             },
             {
              "Number of Records": 1,
              "cases_weekly": 1030902.85
             },
             {
              "Number of Records": 2,
              "cases_weekly": 1190097.75
             },
             {
              "Number of Records": 2,
              "cases_weekly": 1349292.65
             },
             {
              "Number of Records": 3,
              "cases_weekly": 1508487.5499999998
             }
            ]
           },
           "encoding": {
            "x": {
             "axis": {
              "labelOverlap": true,
              "title": "cases_weekly (binned)"
             },
             "bin": {
              "binned": true
             },
             "field": "cases_weekly",
             "scale": {
              "domain": [
               -3864,
               1588085
              ]
             },
             "title": "cases_weekly (binned)",
             "type": "quantitative"
            },
            "y": {
             "field": "Number of Records",
             "type": "quantitative"
            }
           },
           "height": 150,
           "mark": {
            "size": 10.799999999999999,
            "type": "bar"
           },
           "width": 160
          },
          {
           "$schema": "https://vega.github.io/schema/vega-lite/v4.8.1.json",
           "config": {
            "axis": {
             "labelColor": "#505050",
             "labelFont": "Helvetica Neue",
             "labelFontSize": 9,
             "labelFontWeight": 400,
             "titleFont": "Helvetica Neue",
             "titleFontSize": 11,
             "titleFontWeight": 500
            },
            "legend": {
             "labelFont": "Helvetica Neue",
             "labelFontSize": 9,
             "labelFontWeight": 400,
             "titleFont": "Helvetica Neue",
             "titleFontSize": 10,
             "titleFontWeight": 500
            },
            "title": {
             "font": "Helvetica Neue",
             "fontSize": 13,
             "fontWeight": 500
            },
            "view": {
             "continuousHeight": 300,
             "continuousWidth": 400
            }
           },
           "data": {
            "name": "data-4f4d00fdbc48eb6833cf33db1a3f6b2b"
           },
           "datasets": {
            "data-4f4d00fdbc48eb6833cf33db1a3f6b2b": [
             {
              "Number of Records": 9184,
              "deaths_weekly": 97.45000000000005
             },
             {
              "Number of Records": 216,
              "deaths_weekly": 2042.3500000000001
             },
             {
              "Number of Records": 92,
              "deaths_weekly": 3987.2500000000005
             },
             {
              "Number of Records": 51,
              "deaths_weekly": 5932.150000000001
             },
             {
              "Number of Records": 21,
              "deaths_weekly": 7877.05
             },
             {
              "Number of Records": 3,
              "deaths_weekly": 9821.95
             },
             {
              "Number of Records": 2,
              "deaths_weekly": 11766.850000000002
             },
             {
              "Number of Records": 2,
              "deaths_weekly": 13711.75
             },
             {
              "Number of Records": 2,
              "deaths_weekly": 15656.650000000001
             },
             {
              "Number of Records": 4,
              "deaths_weekly": 17601.550000000003
             }
            ]
           },
           "encoding": {
            "x": {
             "axis": {
              "labelOverlap": true,
              "title": "deaths_weekly (binned)"
             },
             "bin": {
              "binned": true
             },
             "field": "deaths_weekly",
             "scale": {
              "domain": [
               -875,
               18574
              ]
             },
             "title": "deaths_weekly (binned)",
             "type": "quantitative"
            },
            "y": {
             "field": "Number of Records",
             "type": "quantitative"
            }
           },
           "height": 150,
           "mark": {
            "size": 10.8,
            "type": "bar"
           },
           "width": 160
          },
          {
           "$schema": "https://vega.github.io/schema/vega-lite/v4.8.1.json",
           "config": {
            "axis": {
             "labelColor": "#505050",
             "labelFont": "Helvetica Neue",
             "labelFontSize": 9,
             "labelFontWeight": 400,
             "titleFont": "Helvetica Neue",
             "titleFontSize": 11,
             "titleFontWeight": 500
            },
            "legend": {
             "labelFont": "Helvetica Neue",
             "labelFontSize": 9,
             "labelFontWeight": 400,
             "titleFont": "Helvetica Neue",
             "titleFontSize": 10,
             "titleFontWeight": 500
            },
            "title": {
             "font": "Helvetica Neue",
             "fontSize": 13,
             "fontWeight": 500
            },
            "view": {
             "continuousHeight": 300,
             "continuousWidth": 400
            }
           },
           "data": {
            "name": "data-bf53a10b1bffa0348b11c6a2a36887de"
           },
           "datasets": {
            "data-bf53a10b1bffa0348b11c6a2a36887de": [
             {
              "Number of Records": 9088,
              "popData2019": 71689958.85
             },
             {
              "Number of Records": 309,
              "popData2019": 215068246.54999998
             },
             {
              "Number of Records": 53,
              "popData2019": 358446534.25
             },
             {
              "Number of Records": 0,
              "popData2019": 501824821.9499999
             },
             {
              "Number of Records": 0,
              "popData2019": 645203109.65
             },
             {
              "Number of Records": 0,
              "popData2019": 788581397.3499999
             },
             {
              "Number of Records": 0,
              "popData2019": 931959685.05
             },
             {
              "Number of Records": 0,
              "popData2019": 1075337972.75
             },
             {
              "Number of Records": 0,
              "popData2019": 1218716260.4499998
             },
             {
              "Number of Records": 106,
              "popData2019": 1362094548.15
             }
            ]
           },
           "encoding": {
            "x": {
             "axis": {
              "labelOverlap": true,
              "title": "popData2019 (binned)"
             },
             "bin": {
              "binned": true
             },
             "field": "popData2019",
             "scale": {
              "domain": [
               815,
               1433783692
              ]
             },
             "title": "popData2019 (binned)",
             "type": "quantitative"
            },
            "y": {
             "field": "Number of Records",
             "type": "quantitative"
            }
           },
           "height": 150,
           "mark": {
            "size": 10.8,
            "type": "bar"
           },
           "width": 160
          },
          {
           "$schema": "https://vega.github.io/schema/vega-lite/v4.8.1.json",
           "config": {
            "axis": {
             "labelColor": "#505050",
             "labelFont": "Helvetica Neue",
             "labelFontSize": 9,
             "labelFontWeight": 400,
             "titleFont": "Helvetica Neue",
             "titleFontSize": 11,
             "titleFontWeight": 500
            },
            "legend": {
             "labelFont": "Helvetica Neue",
             "labelFontSize": 9,
             "labelFontWeight": 400,
             "titleFont": "Helvetica Neue",
             "titleFontSize": 10,
             "titleFontWeight": 500
            },
            "title": {
             "font": "Helvetica Neue",
             "fontSize": 13,
             "fontWeight": 500
            },
            "view": {
             "continuousHeight": 300,
             "continuousWidth": 400
            }
           },
           "data": {
            "name": "data-d394cad11b2976e7a89a27b746428a36"
           },
           "datasets": {
            "data-d394cad11b2976e7a89a27b746428a36": [
             {
              "Number of Records": 8439,
              "notification_rate_per_100000_population_14-days": 46.40299999999999
             },
             {
              "Number of Records": 650,
              "notification_rate_per_100000_population_14-days": 404.40899999999993
             },
             {
              "Number of Records": 163,
              "notification_rate_per_100000_population_14-days": 762.415
             },
             {
              "Number of Records": 64,
              "notification_rate_per_100000_population_14-days": 1120.421
             },
             {
              "Number of Records": 19,
              "notification_rate_per_100000_population_14-days": 1478.427
             },
             {
              "Number of Records": 8,
              "notification_rate_per_100000_population_14-days": 1836.433
             },
             {
              "Number of Records": 0,
              "notification_rate_per_100000_population_14-days": 2194.4390000000003
             },
             {
              "Number of Records": 0,
              "notification_rate_per_100000_population_14-days": 2552.4449999999997
             },
             {
              "Number of Records": 0,
              "notification_rate_per_100000_population_14-days": 2910.451
             },
             {
              "Number of Records": 1,
              "notification_rate_per_100000_population_14-days": 3268.457
             }
            ]
           },
           "encoding": {
            "x": {
             "axis": {
              "labelOverlap": true,
              "title": "notificati...14-days (binned)"
             },
             "bin": {
              "binned": true
             },
             "field": "notification_rate_per_100000_population_14-days",
             "scale": {
              "domain": [
               -132.6,
               3447.46
              ]
             },
             "title": "notification_rate_per_100000_population_14-days (binned)",
             "type": "quantitative"
            },
            "y": {
             "field": "Number of Records",
             "type": "quantitative"
            }
           },
           "height": 150,
           "mark": {
            "size": 10.8,
            "type": "bar"
           },
           "width": 160
          }
         ]
        },
        {
         "action": "Occurrence",
         "description": "Show frequency of occurrence for <p class='highlight-descriptor'>categorical</p> attributes.",
         "vspec": [
          {
           "$schema": "https://vega.github.io/schema/vega-lite/v4.8.1.json",
           "config": {
            "axis": {
             "labelColor": "#505050",
             "labelFont": "Helvetica Neue",
             "labelFontSize": 9,
             "labelFontWeight": 400,
             "titleFont": "Helvetica Neue",
             "titleFontSize": 11,
             "titleFontWeight": 500
            },
            "legend": {
             "labelFont": "Helvetica Neue",
             "labelFontSize": 9,
             "labelFontWeight": 400,
             "titleFont": "Helvetica Neue",
             "titleFontSize": 10,
             "titleFontWeight": 500
            },
            "mark": {
             "tooltip": {
              "content": "encoding"
             }
            },
            "title": {
             "font": "Helvetica Neue",
             "fontSize": 13,
             "fontWeight": 500
            },
            "view": {
             "continuousHeight": 300,
             "continuousWidth": 400
            }
           },
           "data": {
            "name": "data-c8bf0bfbe0ab3e02193d3f2748b33b74"
           },
           "datasets": {
            "data-c8bf0bfbe0ab3e02193d3f2748b33b74": [
             {
              "Record": 2332,
              "continentExp": "Africa"
             },
             {
              "Record": 2129,
              "continentExp": "America"
             },
             {
              "Record": 2039,
              "continentExp": "Asia"
             },
             {
              "Record": 2670,
              "continentExp": "Europe"
             },
             {
              "Record": 398,
              "continentExp": "Oceania"
             },
             {
              "Record": 9,
              "continentExp": "Other"
             }
            ]
           },
           "encoding": {
            "x": {
             "axis": {
              "title": "Number of Records"
             },
             "field": "Record",
             "title": "Number of Records",
             "type": "quantitative"
            },
            "y": {
             "axis": {
              "labelOverlap": true,
              "title": "continentExp"
             },
             "field": "continentExp",
             "sort": "-x",
             "type": "nominal"
            }
           },
           "height": 150,
           "mark": "bar",
           "width": 160
          },
          {
           "$schema": "https://vega.github.io/schema/vega-lite/v4.8.1.json",
           "config": {
            "axis": {
             "labelColor": "#505050",
             "labelFont": "Helvetica Neue",
             "labelFontSize": 9,
             "labelFontWeight": 400,
             "titleFont": "Helvetica Neue",
             "titleFontSize": 11,
             "titleFontWeight": 500
            },
            "legend": {
             "labelFont": "Helvetica Neue",
             "labelFontSize": 9,
             "labelFontWeight": 400,
             "titleFont": "Helvetica Neue",
             "titleFontSize": 10,
             "titleFontWeight": 500
            },
            "mark": {
             "tooltip": {
              "content": "encoding"
             }
            },
            "title": {
             "font": "Helvetica Neue",
             "fontSize": 13,
             "fontWeight": 500
            },
            "view": {
             "continuousHeight": 300,
             "continuousWidth": 400
            }
           },
           "datasets": {
            "data-9983ec9c33401bbb5d6028e8fe76c513": [
             {
              "Record": 213,
              "year_week": "2020-46"
             },
             {
              "Record": 213,
              "year_week": "2020-47"
             },
             {
              "Record": 213,
              "year_week": "2020-48"
             },
             {
              "Record": 213,
              "year_week": "2020-49"
             },
             {
              "Record": 213,
              "year_week": "2020-50"
             },
             {
              "Record": 213,
              "year_week": "2020-51"
             },
             {
              "Record": 213,
              "year_week": "2020-52"
             },
             {
              "Record": 213,
              "year_week": "2020-53"
             },
             {
              "Record": 212,
              "year_week": "2020-44"
             },
             {
              "Record": 212,
              "year_week": "2020-45"
             }
            ]
           },
           "height": 150,
           "layer": [
            {
             "data": {
              "name": "data-9983ec9c33401bbb5d6028e8fe76c513"
             },
             "encoding": {
              "x": {
               "axis": {
                "title": "Number of Records"
               },
               "field": "Record",
               "title": "Number of Records",
               "type": "quantitative"
              },
              "y": {
               "axis": {
                "labelOverlap": true,
                "title": "year_week"
               },
               "field": "year_week",
               "sort": "-x",
               "type": "nominal"
              }
             },
             "mark": "bar"
            },
            {
             "data": {
              "name": "data-9983ec9c33401bbb5d6028e8fe76c513"
             },
             "mark": {
              "align": "right",
              "color": "#ff8e04",
              "fontSize": 11,
              "text": "+ 43 more ...",
              "type": "text",
              "x": 155,
              "y": 142
             }
            }
           ],
           "width": 160
          },
          {
           "$schema": "https://vega.github.io/schema/vega-lite/v4.8.1.json",
           "config": {
            "axis": {
             "labelColor": "#505050",
             "labelFont": "Helvetica Neue",
             "labelFontSize": 9,
             "labelFontWeight": 400,
             "titleFont": "Helvetica Neue",
             "titleFontSize": 11,
             "titleFontWeight": 500
            },
            "legend": {
             "labelFont": "Helvetica Neue",
             "labelFontSize": 9,
             "labelFontWeight": 400,
             "titleFont": "Helvetica Neue",
             "titleFontSize": 10,
             "titleFontWeight": 500
            },
            "mark": {
             "tooltip": {
              "content": "encoding"
             }
            },
            "title": {
             "font": "Helvetica Neue",
             "fontSize": 13,
             "fontWeight": 500
            },
            "view": {
             "continuousHeight": 300,
             "continuousWidth": 400
            }
           },
           "datasets": {
            "data-c291f773219d21eec6a25503bb2bc960": [
             {
              "Record": 53,
              "countryterritoryCode": "AFG"
             },
             {
              "Record": 53,
              "countryterritoryCode": "ARE"
             },
             {
              "Record": 53,
              "countryterritoryCode": "ARM"
             },
             {
              "Record": 53,
              "countryterritoryCode": "AUS"
             },
             {
              "Record": 53,
              "countryterritoryCode": "AUT"
             },
             {
              "Record": 53,
              "countryterritoryCode": "AZE"
             },
             {
              "Record": 53,
              "countryterritoryCode": "BEL"
             },
             {
              "Record": 53,
              "countryterritoryCode": "BHR"
             },
             {
              "Record": 53,
              "countryterritoryCode": "BLR"
             },
             {
              "Record": 53,
              "countryterritoryCode": "BRA"
             }
            ]
           },
           "height": 150,
           "layer": [
            {
             "data": {
              "name": "data-c291f773219d21eec6a25503bb2bc960"
             },
             "encoding": {
              "x": {
               "axis": {
                "title": "Number of Records"
               },
               "field": "Record",
               "title": "Number of Records",
               "type": "quantitative"
              },
              "y": {
               "axis": {
                "labelOverlap": true,
                "title": "countryterritoryCode"
               },
               "field": "countryterritoryCode",
               "sort": "-x",
               "type": "nominal"
              }
             },
             "mark": "bar"
            },
            {
             "data": {
              "name": "data-c291f773219d21eec6a25503bb2bc960"
             },
             "mark": {
              "align": "right",
              "color": "#ff8e04",
              "fontSize": 11,
              "text": "+ 203 more ...",
              "type": "text",
              "x": 155,
              "y": 142
             }
            }
           ],
           "width": 160
          },
          {
           "$schema": "https://vega.github.io/schema/vega-lite/v4.8.1.json",
           "config": {
            "axis": {
             "labelColor": "#505050",
             "labelFont": "Helvetica Neue",
             "labelFontSize": 9,
             "labelFontWeight": 400,
             "titleFont": "Helvetica Neue",
             "titleFontSize": 11,
             "titleFontWeight": 500
            },
            "legend": {
             "labelFont": "Helvetica Neue",
             "labelFontSize": 9,
             "labelFontWeight": 400,
             "titleFont": "Helvetica Neue",
             "titleFontSize": 10,
             "titleFontWeight": 500
            },
            "mark": {
             "tooltip": {
              "content": "encoding"
             }
            },
            "title": {
             "font": "Helvetica Neue",
             "fontSize": 13,
             "fontWeight": 500
            },
            "view": {
             "continuousHeight": 300,
             "continuousWidth": 400
            }
           },
           "datasets": {
            "data-b420f2d621be19d757dbe6520c486bc0": [
             {
              "Record": 53,
              "geoId": "AE"
             },
             {
              "Record": 53,
              "geoId": "AF"
             },
             {
              "Record": 53,
              "geoId": "AM"
             },
             {
              "Record": 53,
              "geoId": "AT"
             },
             {
              "Record": 53,
              "geoId": "AU"
             },
             {
              "Record": 53,
              "geoId": "AZ"
             },
             {
              "Record": 53,
              "geoId": "BE"
             },
             {
              "Record": 53,
              "geoId": "BH"
             },
             {
              "Record": 53,
              "geoId": "BR"
             },
             {
              "Record": 53,
              "geoId": "BY"
             }
            ]
           },
           "height": 150,
           "layer": [
            {
             "data": {
              "name": "data-b420f2d621be19d757dbe6520c486bc0"
             },
             "encoding": {
              "x": {
               "axis": {
                "title": "Number of Records"
               },
               "field": "Record",
               "title": "Number of Records",
               "type": "quantitative"
              },
              "y": {
               "axis": {
                "labelOverlap": true,
                "title": "geoId"
               },
               "field": "geoId",
               "sort": "-x",
               "type": "nominal"
              }
             },
             "mark": "bar"
            },
            {
             "data": {
              "name": "data-b420f2d621be19d757dbe6520c486bc0"
             },
             "mark": {
              "align": "right",
              "color": "#ff8e04",
              "fontSize": 11,
              "text": "+ 204 more ...",
              "type": "text",
              "x": 155,
              "y": 142
             }
            }
           ],
           "width": 160
          },
          {
           "$schema": "https://vega.github.io/schema/vega-lite/v4.8.1.json",
           "config": {
            "axis": {
             "labelColor": "#505050",
             "labelFont": "Helvetica Neue",
             "labelFontSize": 9,
             "labelFontWeight": 400,
             "titleFont": "Helvetica Neue",
             "titleFontSize": 11,
             "titleFontWeight": 500
            },
            "legend": {
             "labelFont": "Helvetica Neue",
             "labelFontSize": 9,
             "labelFontWeight": 400,
             "titleFont": "Helvetica Neue",
             "titleFontSize": 10,
             "titleFontWeight": 500
            },
            "mark": {
             "tooltip": {
              "content": "encoding"
             }
            },
            "title": {
             "font": "Helvetica Neue",
             "fontSize": 13,
             "fontWeight": 500
            },
            "view": {
             "continuousHeight": 300,
             "continuousWidth": 400
            }
           },
           "datasets": {
            "data-435dcf3c26a82666eedbc2fe0e1804c5": [
             {
              "Record": 53,
              "countriesAndTerritories": "Afghanistan"
             },
             {
              "Record": 53,
              "countriesAndTerritories": "Algeria"
             },
             {
              "Record": 53,
              "countriesAndTerritories": "Armenia"
             },
             {
              "Record": 53,
              "countriesAndTerritories": "Australia"
             },
             {
              "Record": 53,
              "countriesAndTerritories": "Austria"
             },
             {
              "Record": 53,
              "countriesAndTerritories": "Azerbaijan"
             },
             {
              "Record": 53,
              "countriesAndTerritories": "Bahrain"
             },
             {
              "Record": 53,
              "countriesAndTerritories": "Belarus"
             },
             {
              "Record": 53,
              "countriesAndTerritories": "Belgium"
             },
             {
              "Record": 53,
              "countriesAndTerritories": "Brazil"
             }
            ]
           },
           "height": 150,
           "layer": [
            {
             "data": {
              "name": "data-435dcf3c26a82666eedbc2fe0e1804c5"
             },
             "encoding": {
              "x": {
               "axis": {
                "title": "Number of Records"
               },
               "field": "Record",
               "title": "Number of Records",
               "type": "quantitative"
              },
              "y": {
               "axis": {
                "labelOverlap": true,
                "title": "countriesAndTerritories"
               },
               "field": "countriesAndTerritories",
               "sort": "-x",
               "type": "nominal"
              }
             },
             "mark": "bar"
            },
            {
             "data": {
              "name": "data-435dcf3c26a82666eedbc2fe0e1804c5"
             },
             "mark": {
              "align": "right",
              "color": "#ff8e04",
              "fontSize": 11,
              "text": "+ 204 more ...",
              "type": "text",
              "x": 155,
              "y": 142
             }
            }
           ],
           "width": 160
          }
         ]
        },
        {
         "action": "Temporal",
         "description": "Show trends over <p class='highlight-descriptor'>time-related</p> attributes.",
         "vspec": [
          {
           "$schema": "https://vega.github.io/schema/vega-lite/v4.8.1.json",
           "config": {
            "axis": {
             "labelColor": "#505050",
             "labelFont": "Helvetica Neue",
             "labelFontSize": 9,
             "labelFontWeight": 400,
             "titleFont": "Helvetica Neue",
             "titleFontSize": 11,
             "titleFontWeight": 500
            },
            "legend": {
             "labelFont": "Helvetica Neue",
             "labelFontSize": 9,
             "labelFontWeight": 400,
             "titleFont": "Helvetica Neue",
             "titleFontSize": 10,
             "titleFontWeight": 500
            },
            "title": {
             "font": "Helvetica Neue",
             "fontSize": 13,
             "fontWeight": 500
            },
            "view": {
             "continuousHeight": 300,
             "continuousWidth": 400
            }
           },
           "data": {
            "name": "data-54b14a5ebce0d2d2c8b2823f6dcf2068"
           },
           "datasets": {
            "data-54b14a5ebce0d2d2c8b2823f6dcf2068": [
             {
              "Record": 209,
              "dateRep": "01/06/2020"
             },
             {
              "Record": 67,
              "dateRep": "02/03/2020"
             },
             {
              "Record": 212,
              "dateRep": "02/11/2020"
             },
             {
              "Record": 67,
              "dateRep": "03/02/2020"
             },
             {
              "Record": 209,
              "dateRep": "03/08/2020"
             },
             {
              "Record": 213,
              "dateRep": "04/01/2021"
             },
             {
              "Record": 208,
              "dateRep": "04/05/2020"
             },
             {
              "Record": 209,
              "dateRep": "05/10/2020"
             },
             {
              "Record": 67,
              "dateRep": "06/01/2020"
             },
             {
              "Record": 203,
              "dateRep": "06/04/2020"
             },
             {
              "Record": 209,
              "dateRep": "06/07/2020"
             },
             {
              "Record": 209,
              "dateRep": "07/09/2020"
             },
             {
              "Record": 213,
              "dateRep": "07/12/2020"
             },
             {
              "Record": 209,
              "dateRep": "08/06/2020"
             },
             {
              "Record": 85,
              "dateRep": "09/03/2020"
             },
             {
              "Record": 212,
              "dateRep": "09/11/2020"
             },
             {
              "Record": 67,
              "dateRep": "10/02/2020"
             },
             {
              "Record": 209,
              "dateRep": "10/08/2020"
             },
             {
              "Record": 208,
              "dateRep": "11/05/2020"
             },
             {
              "Record": 209,
              "dateRep": "12/10/2020"
             },
             {
              "Record": 67,
              "dateRep": "13/01/2020"
             },
             {
              "Record": 205,
              "dateRep": "13/04/2020"
             },
             {
              "Record": 209,
              "dateRep": "13/07/2020"
             },
             {
              "Record": 209,
              "dateRep": "14/09/2020"
             },
             {
              "Record": 213,
              "dateRep": "14/12/2020"
             },
             {
              "Record": 209,
              "dateRep": "15/06/2020"
             },
             {
              "Record": 132,
              "dateRep": "16/03/2020"
             },
             {
              "Record": 213,
              "dateRep": "16/11/2020"
             },
             {
              "Record": 67,
              "dateRep": "17/02/2020"
             },
             {
              "Record": 209,
              "dateRep": "17/08/2020"
             },
             {
              "Record": 209,
              "dateRep": "18/05/2020"
             },
             {
              "Record": 211,
              "dateRep": "19/10/2020"
             },
             {
              "Record": 67,
              "dateRep": "20/01/2020"
             },
             {
              "Record": 205,
              "dateRep": "20/04/2020"
             },
             {
              "Record": 209,
              "dateRep": "20/07/2020"
             },
             {
              "Record": 209,
              "dateRep": "21/09/2020"
             },
             {
              "Record": 213,
              "dateRep": "21/12/2020"
             },
             {
              "Record": 209,
              "dateRep": "22/06/2020"
             },
             {
              "Record": 179,
              "dateRep": "23/03/2020"
             },
             {
              "Record": 213,
              "dateRep": "23/11/2020"
             },
             {
              "Record": 67,
              "dateRep": "24/02/2020"
             },
             {
              "Record": 209,
              "dateRep": "24/08/2020"
             },
             {
              "Record": 209,
              "dateRep": "25/05/2020"
             },
             {
              "Record": 211,
              "dateRep": "26/10/2020"
             },
             {
              "Record": 67,
              "dateRep": "27/01/2020"
             },
             {
              "Record": 206,
              "dateRep": "27/04/2020"
             },
             {
              "Record": 209,
              "dateRep": "27/07/2020"
             },
             {
              "Record": 209,
              "dateRep": "28/09/2020"
             },
             {
              "Record": 213,
              "dateRep": "28/12/2020"
             },
             {
              "Record": 209,
              "dateRep": "29/06/2020"
             },
             {
              "Record": 195,
              "dateRep": "30/03/2020"
             },
             {
              "Record": 213,
              "dateRep": "30/11/2020"
             },
             {
              "Record": 209,
              "dateRep": "31/08/2020"
             }
            ]
           },
           "encoding": {
            "x": {
             "axis": {
              "title": "dateRep"
             },
             "field": "dateRep",
             "type": "temporal"
            },
            "y": {
             "axis": {
              "title": "Record"
             },
             "field": "Record",
             "title": "Number of Records",
             "type": "quantitative"
            }
           },
           "height": 150,
           "mark": "line",
           "selection": {
            "selector002": {
             "bind": "scales",
             "encodings": [
              "x",
              "y"
             ],
             "type": "interval"
            }
           },
           "width": 160
          }
         ]
        }
       ],
       "selectedIntentIndex": {}
      }
     },
     "a0aeb2fabe594088926353c31062ae9a": {
      "model_module": "@jupyter-widgets/output",
      "model_module_version": "1.0.0",
      "model_name": "OutputModel",
      "state": {
       "layout": "IPY_MODEL_288cecac1cf44805a91ac2159d00e0ff",
       "outputs": [
        {
         "data": {
          "text/html": "<div>\n<style scoped>\n    .dataframe tbody tr th:only-of-type {\n        vertical-align: middle;\n    }\n\n    .dataframe tbody tr th {\n        vertical-align: top;\n    }\n\n    .dataframe thead th {\n        text-align: right;\n    }\n</style>\n<table border=\"1\" class=\"dataframe\">\n  <thead>\n    <tr style=\"text-align: right;\">\n      <th></th>\n      <th>dateRep</th>\n      <th>year_week</th>\n      <th>cases_weekly</th>\n      <th>deaths_weekly</th>\n      <th>countriesAndTerritories</th>\n      <th>geoId</th>\n      <th>countryterritoryCode</th>\n      <th>popData2019</th>\n      <th>continentExp</th>\n      <th>notification_rate_per_100000_population_14-days</th>\n    </tr>\n  </thead>\n  <tbody>\n    <tr>\n      <th>0</th>\n      <td>04/01/2021</td>\n      <td>2020-53</td>\n      <td>902</td>\n      <td>60</td>\n      <td>Afghanistan</td>\n      <td>AF</td>\n      <td>AFG</td>\n      <td>38041757.0</td>\n      <td>Asia</td>\n      <td>7.61</td>\n    </tr>\n    <tr>\n      <th>1</th>\n      <td>28/12/2020</td>\n      <td>2020-52</td>\n      <td>1994</td>\n      <td>88</td>\n      <td>Afghanistan</td>\n      <td>AF</td>\n      <td>AFG</td>\n      <td>38041757.0</td>\n      <td>Asia</td>\n      <td>7.19</td>\n    </tr>\n    <tr>\n      <th>2</th>\n      <td>21/12/2020</td>\n      <td>2020-51</td>\n      <td>740</td>\n      <td>111</td>\n      <td>Afghanistan</td>\n      <td>AF</td>\n      <td>AFG</td>\n      <td>38041757.0</td>\n      <td>Asia</td>\n      <td>6.56</td>\n    </tr>\n    <tr>\n      <th>3</th>\n      <td>14/12/2020</td>\n      <td>2020-50</td>\n      <td>1757</td>\n      <td>71</td>\n      <td>Afghanistan</td>\n      <td>AF</td>\n      <td>AFG</td>\n      <td>38041757.0</td>\n      <td>Asia</td>\n      <td>9.01</td>\n    </tr>\n    <tr>\n      <th>4</th>\n      <td>07/12/2020</td>\n      <td>2020-49</td>\n      <td>1672</td>\n      <td>137</td>\n      <td>Afghanistan</td>\n      <td>AF</td>\n      <td>AFG</td>\n      <td>38041757.0</td>\n      <td>Asia</td>\n      <td>7.22</td>\n    </tr>\n    <tr>\n      <th>...</th>\n      <td>...</td>\n      <td>...</td>\n      <td>...</td>\n      <td>...</td>\n      <td>...</td>\n      <td>...</td>\n      <td>...</td>\n      <td>...</td>\n      <td>...</td>\n      <td>...</td>\n    </tr>\n    <tr>\n      <th>9572</th>\n      <td>20/04/2020</td>\n      <td>2020-16</td>\n      <td>11</td>\n      <td>0</td>\n      <td>Zimbabwe</td>\n      <td>ZW</td>\n      <td>ZWE</td>\n      <td>14645473.0</td>\n      <td>Africa</td>\n      <td>0.11</td>\n    </tr>\n    <tr>\n      <th>9573</th>\n      <td>13/04/2020</td>\n      <td>2020-15</td>\n      <td>5</td>\n      <td>2</td>\n      <td>Zimbabwe</td>\n      <td>ZW</td>\n      <td>ZWE</td>\n      <td>14645473.0</td>\n      <td>Africa</td>\n      <td>0.05</td>\n    </tr>\n    <tr>\n      <th>9574</th>\n      <td>06/04/2020</td>\n      <td>2020-14</td>\n      <td>2</td>\n      <td>0</td>\n      <td>Zimbabwe</td>\n      <td>ZW</td>\n      <td>ZWE</td>\n      <td>14645473.0</td>\n      <td>Africa</td>\n      <td>0.05</td>\n    </tr>\n    <tr>\n      <th>9575</th>\n      <td>30/03/2020</td>\n      <td>2020-13</td>\n      <td>5</td>\n      <td>1</td>\n      <td>Zimbabwe</td>\n      <td>ZW</td>\n      <td>ZWE</td>\n      <td>14645473.0</td>\n      <td>Africa</td>\n      <td>0.05</td>\n    </tr>\n    <tr>\n      <th>9576</th>\n      <td>23/03/2020</td>\n      <td>2020-12</td>\n      <td>2</td>\n      <td>0</td>\n      <td>Zimbabwe</td>\n      <td>ZW</td>\n      <td>ZWE</td>\n      <td>14645473.0</td>\n      <td>Africa</td>\n      <td>NaN</td>\n    </tr>\n  </tbody>\n</table>\n<p>9577 rows × 10 columns</p>\n</div>",
          "text/plain": "         dateRep year_week  cases_weekly  deaths_weekly  \\\n0     04/01/2021   2020-53           902             60   \n1     28/12/2020   2020-52          1994             88   \n2     21/12/2020   2020-51           740            111   \n3     14/12/2020   2020-50          1757             71   \n4     07/12/2020   2020-49          1672            137   \n...          ...       ...           ...            ...   \n9572  20/04/2020   2020-16            11              0   \n9573  13/04/2020   2020-15             5              2   \n9574  06/04/2020   2020-14             2              0   \n9575  30/03/2020   2020-13             5              1   \n9576  23/03/2020   2020-12             2              0   \n\n     countriesAndTerritories geoId countryterritoryCode  popData2019  \\\n0                Afghanistan    AF                  AFG   38041757.0   \n1                Afghanistan    AF                  AFG   38041757.0   \n2                Afghanistan    AF                  AFG   38041757.0   \n3                Afghanistan    AF                  AFG   38041757.0   \n4                Afghanistan    AF                  AFG   38041757.0   \n...                      ...   ...                  ...          ...   \n9572                Zimbabwe    ZW                  ZWE   14645473.0   \n9573                Zimbabwe    ZW                  ZWE   14645473.0   \n9574                Zimbabwe    ZW                  ZWE   14645473.0   \n9575                Zimbabwe    ZW                  ZWE   14645473.0   \n9576                Zimbabwe    ZW                  ZWE   14645473.0   \n\n     continentExp  notification_rate_per_100000_population_14-days  \n0            Asia                                             7.61  \n1            Asia                                             7.19  \n2            Asia                                             6.56  \n3            Asia                                             9.01  \n4            Asia                                             7.22  \n...           ...                                              ...  \n9572       Africa                                             0.11  \n9573       Africa                                             0.05  \n9574       Africa                                             0.05  \n9575       Africa                                             0.05  \n9576       Africa                                              NaN  \n\n[9577 rows x 10 columns]"
         },
         "metadata": {},
         "output_type": "display_data"
        }
       ]
      }
     },
     "b2d92664842f4cd08c0a02da5c8ccad7": {
      "model_module": "@jupyter-widgets/output",
      "model_module_version": "1.0.0",
      "model_name": "OutputModel",
      "state": {
       "layout": "IPY_MODEL_b9b66007e6de4eaca209c9eb37ac86ab",
       "outputs": [
        {
         "data": {
          "text/html": "<div>\n<style scoped>\n    .dataframe tbody tr th:only-of-type {\n        vertical-align: middle;\n    }\n\n    .dataframe tbody tr th {\n        vertical-align: top;\n    }\n\n    .dataframe thead th {\n        text-align: right;\n    }\n</style>\n<table border=\"1\" class=\"dataframe\">\n  <thead>\n    <tr style=\"text-align: right;\">\n      <th></th>\n      <th>dateRep</th>\n      <th>year_week</th>\n      <th>cases_weekly</th>\n      <th>deaths_weekly</th>\n      <th>countriesAndTerritories</th>\n      <th>geoId</th>\n      <th>countryterritoryCode</th>\n      <th>popData2019</th>\n      <th>continentExp</th>\n      <th>notification_rate_per_100000_population_14-days</th>\n    </tr>\n  </thead>\n  <tbody>\n    <tr>\n      <th>0</th>\n      <td>04/01/2021</td>\n      <td>2020-53</td>\n      <td>902</td>\n      <td>60</td>\n      <td>Afghanistan</td>\n      <td>AF</td>\n      <td>AFG</td>\n      <td>38041757.0</td>\n      <td>Asia</td>\n      <td>7.61</td>\n    </tr>\n    <tr>\n      <th>1</th>\n      <td>28/12/2020</td>\n      <td>2020-52</td>\n      <td>1994</td>\n      <td>88</td>\n      <td>Afghanistan</td>\n      <td>AF</td>\n      <td>AFG</td>\n      <td>38041757.0</td>\n      <td>Asia</td>\n      <td>7.19</td>\n    </tr>\n    <tr>\n      <th>2</th>\n      <td>21/12/2020</td>\n      <td>2020-51</td>\n      <td>740</td>\n      <td>111</td>\n      <td>Afghanistan</td>\n      <td>AF</td>\n      <td>AFG</td>\n      <td>38041757.0</td>\n      <td>Asia</td>\n      <td>6.56</td>\n    </tr>\n    <tr>\n      <th>3</th>\n      <td>14/12/2020</td>\n      <td>2020-50</td>\n      <td>1757</td>\n      <td>71</td>\n      <td>Afghanistan</td>\n      <td>AF</td>\n      <td>AFG</td>\n      <td>38041757.0</td>\n      <td>Asia</td>\n      <td>9.01</td>\n    </tr>\n    <tr>\n      <th>4</th>\n      <td>07/12/2020</td>\n      <td>2020-49</td>\n      <td>1672</td>\n      <td>137</td>\n      <td>Afghanistan</td>\n      <td>AF</td>\n      <td>AFG</td>\n      <td>38041757.0</td>\n      <td>Asia</td>\n      <td>7.22</td>\n    </tr>\n    <tr>\n      <th>...</th>\n      <td>...</td>\n      <td>...</td>\n      <td>...</td>\n      <td>...</td>\n      <td>...</td>\n      <td>...</td>\n      <td>...</td>\n      <td>...</td>\n      <td>...</td>\n      <td>...</td>\n    </tr>\n    <tr>\n      <th>9572</th>\n      <td>20/04/2020</td>\n      <td>2020-16</td>\n      <td>11</td>\n      <td>0</td>\n      <td>Zimbabwe</td>\n      <td>ZW</td>\n      <td>ZWE</td>\n      <td>14645473.0</td>\n      <td>Africa</td>\n      <td>0.11</td>\n    </tr>\n    <tr>\n      <th>9573</th>\n      <td>13/04/2020</td>\n      <td>2020-15</td>\n      <td>5</td>\n      <td>2</td>\n      <td>Zimbabwe</td>\n      <td>ZW</td>\n      <td>ZWE</td>\n      <td>14645473.0</td>\n      <td>Africa</td>\n      <td>0.05</td>\n    </tr>\n    <tr>\n      <th>9574</th>\n      <td>06/04/2020</td>\n      <td>2020-14</td>\n      <td>2</td>\n      <td>0</td>\n      <td>Zimbabwe</td>\n      <td>ZW</td>\n      <td>ZWE</td>\n      <td>14645473.0</td>\n      <td>Africa</td>\n      <td>0.05</td>\n    </tr>\n    <tr>\n      <th>9575</th>\n      <td>30/03/2020</td>\n      <td>2020-13</td>\n      <td>5</td>\n      <td>1</td>\n      <td>Zimbabwe</td>\n      <td>ZW</td>\n      <td>ZWE</td>\n      <td>14645473.0</td>\n      <td>Africa</td>\n      <td>0.05</td>\n    </tr>\n    <tr>\n      <th>9576</th>\n      <td>23/03/2020</td>\n      <td>2020-12</td>\n      <td>2</td>\n      <td>0</td>\n      <td>Zimbabwe</td>\n      <td>ZW</td>\n      <td>ZWE</td>\n      <td>14645473.0</td>\n      <td>Africa</td>\n      <td>NaN</td>\n    </tr>\n  </tbody>\n</table>\n<p>9577 rows × 10 columns</p>\n</div>",
          "text/plain": "         dateRep year_week  cases_weekly  deaths_weekly  \\\n0     04/01/2021   2020-53           902             60   \n1     28/12/2020   2020-52          1994             88   \n2     21/12/2020   2020-51           740            111   \n3     14/12/2020   2020-50          1757             71   \n4     07/12/2020   2020-49          1672            137   \n...          ...       ...           ...            ...   \n9572  20/04/2020   2020-16            11              0   \n9573  13/04/2020   2020-15             5              2   \n9574  06/04/2020   2020-14             2              0   \n9575  30/03/2020   2020-13             5              1   \n9576  23/03/2020   2020-12             2              0   \n\n     countriesAndTerritories geoId countryterritoryCode  popData2019  \\\n0                Afghanistan    AF                  AFG   38041757.0   \n1                Afghanistan    AF                  AFG   38041757.0   \n2                Afghanistan    AF                  AFG   38041757.0   \n3                Afghanistan    AF                  AFG   38041757.0   \n4                Afghanistan    AF                  AFG   38041757.0   \n...                      ...   ...                  ...          ...   \n9572                Zimbabwe    ZW                  ZWE   14645473.0   \n9573                Zimbabwe    ZW                  ZWE   14645473.0   \n9574                Zimbabwe    ZW                  ZWE   14645473.0   \n9575                Zimbabwe    ZW                  ZWE   14645473.0   \n9576                Zimbabwe    ZW                  ZWE   14645473.0   \n\n     continentExp  notification_rate_per_100000_population_14-days  \n0            Asia                                             7.61  \n1            Asia                                             7.19  \n2            Asia                                             6.56  \n3            Asia                                             9.01  \n4            Asia                                             7.22  \n...           ...                                              ...  \n9572       Africa                                             0.11  \n9573       Africa                                             0.05  \n9574       Africa                                             0.05  \n9575       Africa                                             0.05  \n9576       Africa                                              NaN  \n\n[9577 rows x 10 columns]"
         },
         "metadata": {},
         "output_type": "display_data"
        }
       ]
      }
     },
     "b9b66007e6de4eaca209c9eb37ac86ab": {
      "model_module": "@jupyter-widgets/base",
      "model_module_version": "1.2.0",
      "model_name": "LayoutModel",
      "state": {}
     },
     "c6783dfdbd834cd48df29362adce5bba": {
      "model_module": "@jupyter-widgets/controls",
      "model_module_version": "1.5.0",
      "model_name": "ButtonStyleModel",
      "state": {}
     },
     "c8cbbcd904664827b648ef1eff633d7f": {
      "model_module": "@jupyter-widgets/controls",
      "model_module_version": "1.5.0",
      "model_name": "ButtonModel",
      "state": {
       "description": "Toggle Pandas/Lux",
       "layout": "IPY_MODEL_57994c229b8a4f92bcfa332132f71b7e",
       "style": "IPY_MODEL_c6783dfdbd834cd48df29362adce5bba"
      }
     },
     "e2edbb001c484bd7a201dc744ce8416c": {
      "model_module": "@jupyter-widgets/controls",
      "model_module_version": "1.5.0",
      "model_name": "ButtonStyleModel",
      "state": {}
     }
    },
    "version_major": 2,
    "version_minor": 0
   }
  }
 },
 "nbformat": 4,
 "nbformat_minor": 4
}
