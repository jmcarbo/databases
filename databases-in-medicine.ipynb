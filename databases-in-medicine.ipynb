{
  "cells": [
    {
      "cell_type": "markdown",
      "metadata": {
        "id": "view-in-github",
        "colab_type": "text"
      },
      "source": [
        "<a href=\"https://colab.research.google.com/github/jmcarbo/databases/blob/master/databases-in-medicine.ipynb\" target=\"_parent\"><img src=\"https://colab.research.google.com/assets/colab-badge.svg\" alt=\"Open In Colab\"/></a>"
      ]
    },
    {
      "cell_type": "markdown",
      "metadata": {
        "id": "gXWSOMN3NvhY"
      },
      "source": [
        "# Introducció a les Bases de Dades en Medicina\n",
        "\n",
        "En aquest quadern aprendrem alguns conceptes tals com què és una __base de dades__, què són __dades__, què és __informació__, ... i perquè aquests conceptes són rellevants per la **pràctica mèdica**."
      ]
    },
    {
      "cell_type": "markdown",
      "metadata": {
        "id": "CB4oEuCCNvha"
      },
      "source": [
        "## Les malalties no existeixen, el que hi ha són persones malaltes\n",
        "\n",
        "L'afirmació *Les malalties no existeixen, el que hi ha són persones malaltes* pot semblar exagerada o falsa, però respon al fet que als humans ens cal sempre fer-nos un **model** de la realitat per poder-la copsar. Per exemple, darrera de l'afirmació \"*Aquest pacient té febre*\" hi ha tot un seguit de supòsits previs que impliquen un model mental sobre el que és un ser humà i quins són els seus mecanismes homeostàtics (el fet que la temperatura corporal d'una persona sana s'hagui de mantenir entre 38,0ºC i 37,0ºC) i, fins i tot, el propi concepte de temperatura implica un model previ sobre aquesta realitat que estem observant.\n",
        "\n",
        "Aquests **models** que empreem per observar la realitat són **contingents** (poden ser així o d'una altra manera), tant és així que si, havent estudiat medicina a l'any 2021, en poséssim a llegir una revista mèdica dels anys 50 del segle passat, probablement no entendríem res perquè els models existents que feien referència a malalties hauran canviat radicalment respecte a com entenem les malalties actualment.\n",
        "\n",
        "En definitiva, un **model** és una **simplificació de la realitat** on ens fixem en determinades característiques d'aquesta última i obviem la resta de particularitats per tal de poder entendre el que tenim davant sense perdre'ns en una explosió de detalls que ens serien impossibles de processar pel nostre cervell. Per tant, les malalties no existeixen en la realitat, sinó només en el nostre cervell com a models."
      ]
    },
    {
      "cell_type": "markdown",
      "metadata": {
        "id": "1xnO3Ou2Nvha"
      },
      "source": [
        "## Dades, informació i coneixement\n",
        "\n",
        "Quan estem davant d'un malalt, ens fixem en una sèrie de variables que, com el seu nom indica, són magnituds que poden variar i que són directament observables per nosaltres o mitjançat l'ús d'algun instrument. Per exemple, la temperatura és una magnitud que pot variar en cada pacient i que s'observa mitjançant un termòmetre. De manera anàloga, la freqüència cardiaca, la sensació d'ofec (*dispnea*), las variacions de voltatge de l'electrocardiograma o el grau de cansament del pacient són variables que podem observar i que anomenem **dades**.\n",
        "\n",
        "Si a una dada o conjunt de dades les modelitzem (les apliquem un model) o conceptualitzem, obtenim **informació**. Per exemple, si a la temperatura corporal li apliquem el model que determina que temperatures entre 37 i 38ºC els anomenem febrícula i les temperatures superiors a 38ºC les anomenem febre, hem obtingut informació de les dades. Si als voltatges de l'electrocardiograma els apliquem el model de polarització despolarització del miocardi, podem determinar, per exemple, que hi ha una depressió del segment ST i, per tant, hem obtingut informació. En medicina, la informació s'agrupa en **síntomes** (allò que refereix el malalt) i **signes** (alló que pot observar directament el facultatiu sense preguntar al malalt). \n",
        "\n",
        "Però la informació no ens permet guarir un malalt. Per poder guarir (actuar) un malalt hem de tenir **coneixements**, que vol dir detectar patrons repetitius de síntomes i signes que ens permetin inferir que el que ha anat bé abans en un pacient amb signes i síntomes similars, pot anar bé també en el nou pacient que estem observant. De tota manera, aquest procés de descobriment de patrons és força problemàtic, avui dia, només som capaços d'explicar un 30% de la variabilitat interindividual de la resposta dels pacients als tractaments. Això vol dir que segueix havent un 70% de resultats (exitosos o no dessitjats) que no som capaços d'explicar o controlar.\n",
        "\n",
        "![img1](https://github.com/jmcarbo/databases/blob/master/img/img1.png?raw=1)"
      ]
    },
    {
      "cell_type": "markdown",
      "metadata": {
        "id": "V_cSXhSRNvhb"
      },
      "source": [
        "## Què és una base de dades?\n",
        "\n",
        "Les dades i la informació sobre els pacients s'enregistren habitualment en un \"sistema\" que anomenem **història clínica**. Qualsevol mecanisme o procediment (sistema) que ens permeti emmagatazemar i recuperar dades i/o informació l'anomenem **Sistema Gestor de Base de Dades (SGBD)** o, més breument, **base de dades**. \n",
        "\n",
        "Però no n'hi ha prou amb poder emmagatzemar i recuperar informació, cal també poder capturar-la primer i analitzar-la posteriorment. Quan un sistema ens permet capturar, emmagatzemar, recuperar i analitzar dades i informació diem que estem davant d'un **Sistema d'Informació**. Per tant, un sistema d'informació ha d'incloure necessàriament una o més bases de dades. Per tant, la **història clínica** (en paper o electrònica) és un **Sistema d'Informació** i, alhora també un **SGBD**.\n",
        "\n",
        "![img2](https://github.com/jmcarbo/databases/blob/master/img/img2.png?raw=1)"
      ]
    },
    {
      "cell_type": "markdown",
      "metadata": {
        "id": "xVTxEPZuNvhb"
      },
      "source": [
        "## Clau primària\n",
        "\n",
        "Dins de la història clínica d'un pacient emmagatzemem un bon nombre de dades i informació (variables) que es poden endreçar agrupant-les per data, anamnesis (interrogatori), tipus d'exploració, etc. Una agrupació de variables (també anomenades **atributs**) s'anomena **entitat**. Per exemple, quan agrupem per data estem considerant una entitat que anomenem *visita mèdica* o *acte mèdic*, quan agrupem per pacient el *pacient* és l'entitat, quan agrupem per *metge* el metge és l'entitat, etc. \n",
        "\n",
        "Sempre hi ha d'haver una manera de distinguir entre elements d'una determinada entitat. Per exemple, distinguir entre visites mèdiques, pacients o metges. Al conjunt (mínim) d'atributs que permeten distinguir entre un element d'una entitat i un altre l'anomenem **clau primària**. Per exemple, per distinguir un metge d'un altre podem fer servir el DNI, per distinguir un pacient d'un altre el seu número d'història clínica junt amb l'hospital, ja que el número d'història clínica es pot repetir entre hospitals. Un error molt freqüent a l'hora de enregistrar informació sobre pacients és no tenir en compte que cal poder distinguir exactament de quina entitat estem parlant perquè no s'ha tingut en compte quina és la clau primària. Per exemple, quan enregistrem visites, cal apuntar la data, el pacient i el metge que participen en la visita, donat que un malalt pot ser visitat per més d'un metge el mateix dia, fins i tot pel mateix metge el mateix dia, en hores diferents. Per això, en el curs clínic cal consignar la data, l'hora i el metge.\n",
        "\n",
        "\n",
        "![img3](https://github.com/jmcarbo/databases/blob/master/img/img3.png?raw=1)"
      ]
    },
    {
      "cell_type": "markdown",
      "metadata": {
        "id": "2esYLxYdNvhb"
      },
      "source": [
        "## Característiques dessitjables en una base de dades\n",
        "\n",
        "Perquè és millor fer servir una programa de base de dades com *Microsoft Access* o *Postgres* en comptes d'un full de càlcul (*Microsoft Excel*) a l'hora d'emmagatzemar dades i informació? Doncs perquè un full de càlcul no té les quatre característiques bàsiques d'una base de dades que es resumeixen amb l'acrònim **ACID** (**A**tòmica, **C**onsistent, a**Ï**llada, **D**urable). Veiem:\n",
        "\n",
        "* **Atòmica**: fa referència a la capacitat de enregistrar transaccions complexes de forma unitària. Per exemple, si vull donar d'alta un pacient, he d'alliberar la seva habitació, enregistrar la data d'alta, emetre la factura o el càrrec al proveïdor de serveis, etc. Si aquest procés complex queda interromput a la meitat per qualsevol raó, la base de dades quedaria en un estat inconsistent, per tant, o bé dono d'alta el pacient enregistrant totes aquestes operacions o, si falla, he de tornar-ho a deixar tot com estava abans d'iniciar l'alta. D'aquesta manera, qualsevol operació complexa que consti de diferents etapes, o bé es completa tota o, si falla, es torna a deixar tot tal com estava abans d'iniciar el procés.\n",
        "\n",
        "* **Consistent**: fa referència al fet que les dades i la informació enregistrades s'han de correspondre amb la realitat. Parlem de **consistència interna** quan es referim a que no hi poden haver dades o informació incompatibles amb la realitat. Per exemple, no podem enregistrar pesos incompatibles amb la vida (ex: >1000Kg) o embaraços en pacients de genotip masculí. Per millorar la consistència interna es fan servir regles de validació en el moment de dissenyar la base de dades. Parlem de **consistència externa** quan intentem que les dades enregistrades es corresponguin amb la realitat externa. Per exemple, si apuntem una alçada de 1,75cm l'alçada real del pacient ha de ser aquesta i no pas 1,65cm per exemple. Per millorar la consistència externa el que es pot fer és repetir la introducció de dades per detectar errors. Això es fa, sobre tot, en els assaigs clínics.\n",
        "\n",
        "* **Aïllada**: fa referència a que la modificació d'una entitat no ha d'afectar a altres entitats no relacionades. Per exemple, si modifico el curs clínic d'un pacient, no s'ha de poder modificar inadvertidament el curs clínic d'un altre.\n",
        "\n",
        "* **Durable**: la durabilitat fa referència a la capacitat que té una base de dades de sobreviure al desastres tècnics o físics. Per exemple, si s'en va la llum, no s'ha de perdre informació.\n",
        "\n",
        "\n",
        "![img4](https://github.com/jmcarbo/databases/blob/master/img/img4.png?raw=1)"
      ]
    },
    {
      "cell_type": "markdown",
      "metadata": {
        "id": "dEK8xauQNvhc"
      },
      "source": [
        "## Tipus de bases de dades\n",
        "\n",
        "Hi ha diversos tipus de bases de dades (o sistemes d'informació) que es poden classificar en funció de diversos criteris. No totes les bases de dades compleixen amb tots els criteris ACID descrits anteriorment.\n",
        "\n",
        "* En funció de **l'ubicació**: parlem de bases de dades **locals** quan les dades estan concentrades en un únic sistema i parlem de bases de dades **distribuïdes** quan part de les dades estan en un sistema i part en un altre. Per exemple, la història clínica unificada és una base de dades distribuïda perquè no tota la informació està en el mateix subsistema. Per exemple, si anem a un hospital tindrem una dades específiques que no sempre estaran totes disponibles si ens visiten en un CAP. Parlarem de base de dades **replicades** quan tota la informació està replicada en diferents ubicacions físiques.\n",
        "\n",
        "* Segons l'ús: parlarem de bases de dades **transaccionals** per referir-nos a aquelles bases de dades que es fan servir per enregistrar dades i informació en el moment en que es produeix, per exemple altes, baixes, curs clínic, etc. Parlem de sistemes d'informació **OLAP** (Online Analytical Processing) per referir-nos a aquells que es fan servir, sobre tot, en la fase d'anàlisi de les dades i la informació. En el cas de l'història clínica informatitzada es tracta d'una base de dades híbrida que té elements transaccionals i elemens OLAP.\n",
        "\n",
        "* Segons l'estructura de les dades: parlem de bases de dades **jeràrquiques**, **relacionals**, amb estructura de **graf**, **documentals**, ... en funció de l'estructura de les dades i la informació que s'emmagatzema. En general, a l'història clínica informatitzada es fan servir bases de dades relacionals, però també hi han parts amb estructura documental o fins i tot jeràrquica.\n",
        "\n",
        "\n",
        "![img5](https://github.com/jmcarbo/databases/blob/master/img/img5.png?raw=1)"
      ]
    },
    {
      "cell_type": "markdown",
      "metadata": {
        "id": "TGISBg2NNvhc"
      },
      "source": [
        "## El cervell humà i els ordinadors\n",
        "\n",
        "Per últim destacar que la manera en que es gestionen les dades i la informació en el cervell humà i en els ordinadors és molt diferenciada. L'ordinador és capaç d'accedir a les dades de manera **aleatòria** (no seqüencial) i **precisa**. És a dir, per recuperar la data de naixement d'una persona ho fa accedint per un índex (generalment) i quan recupera la data de naixement no comet errors (si no hi ha una fallida en el maquinari). En el cas del cervell, les dades i la informació s'estructuren per **analogies** i **patrons** (el cervell és molt ràpid reconeixen patrons i similituds) i, sovint, la informació recuperada és imprecissa (ens enrecordem de l'any però no de la data exacta i recordem l'ordre de naixement d'un grup de persones però no l'edad exacta de cadascuna). El cervell humà recorda amb més facilitat associacions sorprenents o amb forta càrrega emocional i molts sistemes mnemotècnics es basen en aquesta característica que ens allunya força del funcionament de la memòria dels ordinadors basats en màquines de Turing com els actuals.\n",
        "\n",
        "![img6](https://github.com/jmcarbo/databases/blob/master/img/img6.png?raw=1)"
      ]
    },
    {
      "cell_type": "code",
      "execution_count": null,
      "metadata": {
        "id": "uaboNP1VNvhc"
      },
      "outputs": [],
      "source": [
        ""
      ]
    }
  ],
  "metadata": {
    "kernelspec": {
      "display_name": "Python 3",
      "language": "python",
      "name": "python3"
    },
    "language_info": {
      "codemirror_mode": {
        "name": "ipython",
        "version": 3
      },
      "file_extension": ".py",
      "mimetype": "text/x-python",
      "name": "python",
      "nbconvert_exporter": "python",
      "pygments_lexer": "ipython3",
      "version": "3.7.8"
    },
    "rise": {
      "autolaunch": false,
      "enable_chalkboard": true
    },
    "colab": {
      "name": "databases-in-medicine.ipynb",
      "provenance": [],
      "include_colab_link": true
    }
  },
  "nbformat": 4,
  "nbformat_minor": 0
}